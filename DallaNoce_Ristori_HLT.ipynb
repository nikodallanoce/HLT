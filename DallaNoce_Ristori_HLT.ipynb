{
  "nbformat": 4,
  "nbformat_minor": 0,
  "metadata": {
    "colab": {
      "name": "DallaNoce_Ristori_HLT.ipynb",
      "provenance": []
    },
    "kernelspec": {
      "name": "python3",
      "display_name": "Python 3"
    },
    "language_info": {
      "name": "python"
    },
    "accelerator": "TPU",
    "widgets": {
      "application/vnd.jupyter.widget-state+json": {
        "a2c17c83a7ab4a44a3fd6ddd26cb2aa5": {
          "model_module": "@jupyter-widgets/controls",
          "model_name": "HBoxModel",
          "model_module_version": "1.5.0",
          "state": {
            "_view_name": "HBoxView",
            "_dom_classes": [],
            "_model_name": "HBoxModel",
            "_view_module": "@jupyter-widgets/controls",
            "_model_module_version": "1.5.0",
            "_view_count": null,
            "_view_module_version": "1.5.0",
            "box_style": "",
            "layout": "IPY_MODEL_49870ea9bf13404f9bab451612412c24",
            "_model_module": "@jupyter-widgets/controls",
            "children": [
              "IPY_MODEL_b8388210b6474cd08e2081e8a9436dcc",
              "IPY_MODEL_d44237a742b54c9d982ded2a589b2c00",
              "IPY_MODEL_f721418058614d1185127b4b00de38b3"
            ]
          }
        },
        "49870ea9bf13404f9bab451612412c24": {
          "model_module": "@jupyter-widgets/base",
          "model_name": "LayoutModel",
          "model_module_version": "1.2.0",
          "state": {
            "_view_name": "LayoutView",
            "grid_template_rows": null,
            "right": null,
            "justify_content": null,
            "_view_module": "@jupyter-widgets/base",
            "overflow": null,
            "_model_module_version": "1.2.0",
            "_view_count": null,
            "flex_flow": null,
            "width": null,
            "min_width": null,
            "border": null,
            "align_items": null,
            "bottom": null,
            "_model_module": "@jupyter-widgets/base",
            "top": null,
            "grid_column": null,
            "overflow_y": null,
            "overflow_x": null,
            "grid_auto_flow": null,
            "grid_area": null,
            "grid_template_columns": null,
            "flex": null,
            "_model_name": "LayoutModel",
            "justify_items": null,
            "grid_row": null,
            "max_height": null,
            "align_content": null,
            "visibility": null,
            "align_self": null,
            "height": null,
            "min_height": null,
            "padding": null,
            "grid_auto_rows": null,
            "grid_gap": null,
            "max_width": null,
            "order": null,
            "_view_module_version": "1.2.0",
            "grid_template_areas": null,
            "object_position": null,
            "object_fit": null,
            "grid_auto_columns": null,
            "margin": null,
            "display": null,
            "left": null
          }
        },
        "b8388210b6474cd08e2081e8a9436dcc": {
          "model_module": "@jupyter-widgets/controls",
          "model_name": "HTMLModel",
          "model_module_version": "1.5.0",
          "state": {
            "_view_name": "HTMLView",
            "style": "IPY_MODEL_4ac440b64b2f462bb734142609ddd096",
            "_dom_classes": [],
            "description": "",
            "_model_name": "HTMLModel",
            "placeholder": "​",
            "_view_module": "@jupyter-widgets/controls",
            "_model_module_version": "1.5.0",
            "value": "Downloading: 100%",
            "_view_count": null,
            "_view_module_version": "1.5.0",
            "description_tooltip": null,
            "_model_module": "@jupyter-widgets/controls",
            "layout": "IPY_MODEL_48ba3c9c598042b7ad06d463f47a4ea4"
          }
        },
        "d44237a742b54c9d982ded2a589b2c00": {
          "model_module": "@jupyter-widgets/controls",
          "model_name": "FloatProgressModel",
          "model_module_version": "1.5.0",
          "state": {
            "_view_name": "ProgressView",
            "style": "IPY_MODEL_53d8065389ae4cc4890e92cce989899e",
            "_dom_classes": [],
            "description": "",
            "_model_name": "FloatProgressModel",
            "bar_style": "success",
            "max": 231508,
            "_view_module": "@jupyter-widgets/controls",
            "_model_module_version": "1.5.0",
            "value": 231508,
            "_view_count": null,
            "_view_module_version": "1.5.0",
            "orientation": "horizontal",
            "min": 0,
            "description_tooltip": null,
            "_model_module": "@jupyter-widgets/controls",
            "layout": "IPY_MODEL_a89fc44af1554d9094942c3afa71f7ac"
          }
        },
        "f721418058614d1185127b4b00de38b3": {
          "model_module": "@jupyter-widgets/controls",
          "model_name": "HTMLModel",
          "model_module_version": "1.5.0",
          "state": {
            "_view_name": "HTMLView",
            "style": "IPY_MODEL_1addc1dd3cb94da9b5b08bee61d8f412",
            "_dom_classes": [],
            "description": "",
            "_model_name": "HTMLModel",
            "placeholder": "​",
            "_view_module": "@jupyter-widgets/controls",
            "_model_module_version": "1.5.0",
            "value": " 226k/226k [00:00&lt;00:00, 1.06MB/s]",
            "_view_count": null,
            "_view_module_version": "1.5.0",
            "description_tooltip": null,
            "_model_module": "@jupyter-widgets/controls",
            "layout": "IPY_MODEL_2c378b8245194ece80619e9264126813"
          }
        },
        "4ac440b64b2f462bb734142609ddd096": {
          "model_module": "@jupyter-widgets/controls",
          "model_name": "DescriptionStyleModel",
          "model_module_version": "1.5.0",
          "state": {
            "_view_name": "StyleView",
            "_model_name": "DescriptionStyleModel",
            "description_width": "",
            "_view_module": "@jupyter-widgets/base",
            "_model_module_version": "1.5.0",
            "_view_count": null,
            "_view_module_version": "1.2.0",
            "_model_module": "@jupyter-widgets/controls"
          }
        },
        "48ba3c9c598042b7ad06d463f47a4ea4": {
          "model_module": "@jupyter-widgets/base",
          "model_name": "LayoutModel",
          "model_module_version": "1.2.0",
          "state": {
            "_view_name": "LayoutView",
            "grid_template_rows": null,
            "right": null,
            "justify_content": null,
            "_view_module": "@jupyter-widgets/base",
            "overflow": null,
            "_model_module_version": "1.2.0",
            "_view_count": null,
            "flex_flow": null,
            "width": null,
            "min_width": null,
            "border": null,
            "align_items": null,
            "bottom": null,
            "_model_module": "@jupyter-widgets/base",
            "top": null,
            "grid_column": null,
            "overflow_y": null,
            "overflow_x": null,
            "grid_auto_flow": null,
            "grid_area": null,
            "grid_template_columns": null,
            "flex": null,
            "_model_name": "LayoutModel",
            "justify_items": null,
            "grid_row": null,
            "max_height": null,
            "align_content": null,
            "visibility": null,
            "align_self": null,
            "height": null,
            "min_height": null,
            "padding": null,
            "grid_auto_rows": null,
            "grid_gap": null,
            "max_width": null,
            "order": null,
            "_view_module_version": "1.2.0",
            "grid_template_areas": null,
            "object_position": null,
            "object_fit": null,
            "grid_auto_columns": null,
            "margin": null,
            "display": null,
            "left": null
          }
        },
        "53d8065389ae4cc4890e92cce989899e": {
          "model_module": "@jupyter-widgets/controls",
          "model_name": "ProgressStyleModel",
          "model_module_version": "1.5.0",
          "state": {
            "_view_name": "StyleView",
            "_model_name": "ProgressStyleModel",
            "description_width": "",
            "_view_module": "@jupyter-widgets/base",
            "_model_module_version": "1.5.0",
            "_view_count": null,
            "_view_module_version": "1.2.0",
            "bar_color": null,
            "_model_module": "@jupyter-widgets/controls"
          }
        },
        "a89fc44af1554d9094942c3afa71f7ac": {
          "model_module": "@jupyter-widgets/base",
          "model_name": "LayoutModel",
          "model_module_version": "1.2.0",
          "state": {
            "_view_name": "LayoutView",
            "grid_template_rows": null,
            "right": null,
            "justify_content": null,
            "_view_module": "@jupyter-widgets/base",
            "overflow": null,
            "_model_module_version": "1.2.0",
            "_view_count": null,
            "flex_flow": null,
            "width": null,
            "min_width": null,
            "border": null,
            "align_items": null,
            "bottom": null,
            "_model_module": "@jupyter-widgets/base",
            "top": null,
            "grid_column": null,
            "overflow_y": null,
            "overflow_x": null,
            "grid_auto_flow": null,
            "grid_area": null,
            "grid_template_columns": null,
            "flex": null,
            "_model_name": "LayoutModel",
            "justify_items": null,
            "grid_row": null,
            "max_height": null,
            "align_content": null,
            "visibility": null,
            "align_self": null,
            "height": null,
            "min_height": null,
            "padding": null,
            "grid_auto_rows": null,
            "grid_gap": null,
            "max_width": null,
            "order": null,
            "_view_module_version": "1.2.0",
            "grid_template_areas": null,
            "object_position": null,
            "object_fit": null,
            "grid_auto_columns": null,
            "margin": null,
            "display": null,
            "left": null
          }
        },
        "1addc1dd3cb94da9b5b08bee61d8f412": {
          "model_module": "@jupyter-widgets/controls",
          "model_name": "DescriptionStyleModel",
          "model_module_version": "1.5.0",
          "state": {
            "_view_name": "StyleView",
            "_model_name": "DescriptionStyleModel",
            "description_width": "",
            "_view_module": "@jupyter-widgets/base",
            "_model_module_version": "1.5.0",
            "_view_count": null,
            "_view_module_version": "1.2.0",
            "_model_module": "@jupyter-widgets/controls"
          }
        },
        "2c378b8245194ece80619e9264126813": {
          "model_module": "@jupyter-widgets/base",
          "model_name": "LayoutModel",
          "model_module_version": "1.2.0",
          "state": {
            "_view_name": "LayoutView",
            "grid_template_rows": null,
            "right": null,
            "justify_content": null,
            "_view_module": "@jupyter-widgets/base",
            "overflow": null,
            "_model_module_version": "1.2.0",
            "_view_count": null,
            "flex_flow": null,
            "width": null,
            "min_width": null,
            "border": null,
            "align_items": null,
            "bottom": null,
            "_model_module": "@jupyter-widgets/base",
            "top": null,
            "grid_column": null,
            "overflow_y": null,
            "overflow_x": null,
            "grid_auto_flow": null,
            "grid_area": null,
            "grid_template_columns": null,
            "flex": null,
            "_model_name": "LayoutModel",
            "justify_items": null,
            "grid_row": null,
            "max_height": null,
            "align_content": null,
            "visibility": null,
            "align_self": null,
            "height": null,
            "min_height": null,
            "padding": null,
            "grid_auto_rows": null,
            "grid_gap": null,
            "max_width": null,
            "order": null,
            "_view_module_version": "1.2.0",
            "grid_template_areas": null,
            "object_position": null,
            "object_fit": null,
            "grid_auto_columns": null,
            "margin": null,
            "display": null,
            "left": null
          }
        },
        "49406fe447b14153979e1f84bb7dfbe6": {
          "model_module": "@jupyter-widgets/controls",
          "model_name": "HBoxModel",
          "model_module_version": "1.5.0",
          "state": {
            "_view_name": "HBoxView",
            "_dom_classes": [],
            "_model_name": "HBoxModel",
            "_view_module": "@jupyter-widgets/controls",
            "_model_module_version": "1.5.0",
            "_view_count": null,
            "_view_module_version": "1.5.0",
            "box_style": "",
            "layout": "IPY_MODEL_7517563cdb1c4041accf6af58c8c08bb",
            "_model_module": "@jupyter-widgets/controls",
            "children": [
              "IPY_MODEL_aa27718aea96436b9b2652be50133a10",
              "IPY_MODEL_aa08cde84a2744baa80f6b1ed73ad7cb",
              "IPY_MODEL_58aa7b78b406490f8f9ba6d1bad23c84"
            ]
          }
        },
        "7517563cdb1c4041accf6af58c8c08bb": {
          "model_module": "@jupyter-widgets/base",
          "model_name": "LayoutModel",
          "model_module_version": "1.2.0",
          "state": {
            "_view_name": "LayoutView",
            "grid_template_rows": null,
            "right": null,
            "justify_content": null,
            "_view_module": "@jupyter-widgets/base",
            "overflow": null,
            "_model_module_version": "1.2.0",
            "_view_count": null,
            "flex_flow": null,
            "width": null,
            "min_width": null,
            "border": null,
            "align_items": null,
            "bottom": null,
            "_model_module": "@jupyter-widgets/base",
            "top": null,
            "grid_column": null,
            "overflow_y": null,
            "overflow_x": null,
            "grid_auto_flow": null,
            "grid_area": null,
            "grid_template_columns": null,
            "flex": null,
            "_model_name": "LayoutModel",
            "justify_items": null,
            "grid_row": null,
            "max_height": null,
            "align_content": null,
            "visibility": null,
            "align_self": null,
            "height": null,
            "min_height": null,
            "padding": null,
            "grid_auto_rows": null,
            "grid_gap": null,
            "max_width": null,
            "order": null,
            "_view_module_version": "1.2.0",
            "grid_template_areas": null,
            "object_position": null,
            "object_fit": null,
            "grid_auto_columns": null,
            "margin": null,
            "display": null,
            "left": null
          }
        },
        "aa27718aea96436b9b2652be50133a10": {
          "model_module": "@jupyter-widgets/controls",
          "model_name": "HTMLModel",
          "model_module_version": "1.5.0",
          "state": {
            "_view_name": "HTMLView",
            "style": "IPY_MODEL_1ca5d22a59b24c1a97155767b60a0fc3",
            "_dom_classes": [],
            "description": "",
            "_model_name": "HTMLModel",
            "placeholder": "​",
            "_view_module": "@jupyter-widgets/controls",
            "_model_module_version": "1.5.0",
            "value": "Downloading: 100%",
            "_view_count": null,
            "_view_module_version": "1.5.0",
            "description_tooltip": null,
            "_model_module": "@jupyter-widgets/controls",
            "layout": "IPY_MODEL_7d0fe8b911594b9bbc5a2a420fd08818"
          }
        },
        "aa08cde84a2744baa80f6b1ed73ad7cb": {
          "model_module": "@jupyter-widgets/controls",
          "model_name": "FloatProgressModel",
          "model_module_version": "1.5.0",
          "state": {
            "_view_name": "ProgressView",
            "style": "IPY_MODEL_9abbcdf7b4ff47c9981860172c39c138",
            "_dom_classes": [],
            "description": "",
            "_model_name": "FloatProgressModel",
            "bar_style": "success",
            "max": 28,
            "_view_module": "@jupyter-widgets/controls",
            "_model_module_version": "1.5.0",
            "value": 28,
            "_view_count": null,
            "_view_module_version": "1.5.0",
            "orientation": "horizontal",
            "min": 0,
            "description_tooltip": null,
            "_model_module": "@jupyter-widgets/controls",
            "layout": "IPY_MODEL_b9d276b7d21e43f1bfd4b570864e3ad9"
          }
        },
        "58aa7b78b406490f8f9ba6d1bad23c84": {
          "model_module": "@jupyter-widgets/controls",
          "model_name": "HTMLModel",
          "model_module_version": "1.5.0",
          "state": {
            "_view_name": "HTMLView",
            "style": "IPY_MODEL_93665fca7e3040f8b1e6419e680ce0e1",
            "_dom_classes": [],
            "description": "",
            "_model_name": "HTMLModel",
            "placeholder": "​",
            "_view_module": "@jupyter-widgets/controls",
            "_model_module_version": "1.5.0",
            "value": " 28.0/28.0 [00:00&lt;00:00, 580B/s]",
            "_view_count": null,
            "_view_module_version": "1.5.0",
            "description_tooltip": null,
            "_model_module": "@jupyter-widgets/controls",
            "layout": "IPY_MODEL_4fa9d5d0499c4e5a888aaed151632b0d"
          }
        },
        "1ca5d22a59b24c1a97155767b60a0fc3": {
          "model_module": "@jupyter-widgets/controls",
          "model_name": "DescriptionStyleModel",
          "model_module_version": "1.5.0",
          "state": {
            "_view_name": "StyleView",
            "_model_name": "DescriptionStyleModel",
            "description_width": "",
            "_view_module": "@jupyter-widgets/base",
            "_model_module_version": "1.5.0",
            "_view_count": null,
            "_view_module_version": "1.2.0",
            "_model_module": "@jupyter-widgets/controls"
          }
        },
        "7d0fe8b911594b9bbc5a2a420fd08818": {
          "model_module": "@jupyter-widgets/base",
          "model_name": "LayoutModel",
          "model_module_version": "1.2.0",
          "state": {
            "_view_name": "LayoutView",
            "grid_template_rows": null,
            "right": null,
            "justify_content": null,
            "_view_module": "@jupyter-widgets/base",
            "overflow": null,
            "_model_module_version": "1.2.0",
            "_view_count": null,
            "flex_flow": null,
            "width": null,
            "min_width": null,
            "border": null,
            "align_items": null,
            "bottom": null,
            "_model_module": "@jupyter-widgets/base",
            "top": null,
            "grid_column": null,
            "overflow_y": null,
            "overflow_x": null,
            "grid_auto_flow": null,
            "grid_area": null,
            "grid_template_columns": null,
            "flex": null,
            "_model_name": "LayoutModel",
            "justify_items": null,
            "grid_row": null,
            "max_height": null,
            "align_content": null,
            "visibility": null,
            "align_self": null,
            "height": null,
            "min_height": null,
            "padding": null,
            "grid_auto_rows": null,
            "grid_gap": null,
            "max_width": null,
            "order": null,
            "_view_module_version": "1.2.0",
            "grid_template_areas": null,
            "object_position": null,
            "object_fit": null,
            "grid_auto_columns": null,
            "margin": null,
            "display": null,
            "left": null
          }
        },
        "9abbcdf7b4ff47c9981860172c39c138": {
          "model_module": "@jupyter-widgets/controls",
          "model_name": "ProgressStyleModel",
          "model_module_version": "1.5.0",
          "state": {
            "_view_name": "StyleView",
            "_model_name": "ProgressStyleModel",
            "description_width": "",
            "_view_module": "@jupyter-widgets/base",
            "_model_module_version": "1.5.0",
            "_view_count": null,
            "_view_module_version": "1.2.0",
            "bar_color": null,
            "_model_module": "@jupyter-widgets/controls"
          }
        },
        "b9d276b7d21e43f1bfd4b570864e3ad9": {
          "model_module": "@jupyter-widgets/base",
          "model_name": "LayoutModel",
          "model_module_version": "1.2.0",
          "state": {
            "_view_name": "LayoutView",
            "grid_template_rows": null,
            "right": null,
            "justify_content": null,
            "_view_module": "@jupyter-widgets/base",
            "overflow": null,
            "_model_module_version": "1.2.0",
            "_view_count": null,
            "flex_flow": null,
            "width": null,
            "min_width": null,
            "border": null,
            "align_items": null,
            "bottom": null,
            "_model_module": "@jupyter-widgets/base",
            "top": null,
            "grid_column": null,
            "overflow_y": null,
            "overflow_x": null,
            "grid_auto_flow": null,
            "grid_area": null,
            "grid_template_columns": null,
            "flex": null,
            "_model_name": "LayoutModel",
            "justify_items": null,
            "grid_row": null,
            "max_height": null,
            "align_content": null,
            "visibility": null,
            "align_self": null,
            "height": null,
            "min_height": null,
            "padding": null,
            "grid_auto_rows": null,
            "grid_gap": null,
            "max_width": null,
            "order": null,
            "_view_module_version": "1.2.0",
            "grid_template_areas": null,
            "object_position": null,
            "object_fit": null,
            "grid_auto_columns": null,
            "margin": null,
            "display": null,
            "left": null
          }
        },
        "93665fca7e3040f8b1e6419e680ce0e1": {
          "model_module": "@jupyter-widgets/controls",
          "model_name": "DescriptionStyleModel",
          "model_module_version": "1.5.0",
          "state": {
            "_view_name": "StyleView",
            "_model_name": "DescriptionStyleModel",
            "description_width": "",
            "_view_module": "@jupyter-widgets/base",
            "_model_module_version": "1.5.0",
            "_view_count": null,
            "_view_module_version": "1.2.0",
            "_model_module": "@jupyter-widgets/controls"
          }
        },
        "4fa9d5d0499c4e5a888aaed151632b0d": {
          "model_module": "@jupyter-widgets/base",
          "model_name": "LayoutModel",
          "model_module_version": "1.2.0",
          "state": {
            "_view_name": "LayoutView",
            "grid_template_rows": null,
            "right": null,
            "justify_content": null,
            "_view_module": "@jupyter-widgets/base",
            "overflow": null,
            "_model_module_version": "1.2.0",
            "_view_count": null,
            "flex_flow": null,
            "width": null,
            "min_width": null,
            "border": null,
            "align_items": null,
            "bottom": null,
            "_model_module": "@jupyter-widgets/base",
            "top": null,
            "grid_column": null,
            "overflow_y": null,
            "overflow_x": null,
            "grid_auto_flow": null,
            "grid_area": null,
            "grid_template_columns": null,
            "flex": null,
            "_model_name": "LayoutModel",
            "justify_items": null,
            "grid_row": null,
            "max_height": null,
            "align_content": null,
            "visibility": null,
            "align_self": null,
            "height": null,
            "min_height": null,
            "padding": null,
            "grid_auto_rows": null,
            "grid_gap": null,
            "max_width": null,
            "order": null,
            "_view_module_version": "1.2.0",
            "grid_template_areas": null,
            "object_position": null,
            "object_fit": null,
            "grid_auto_columns": null,
            "margin": null,
            "display": null,
            "left": null
          }
        },
        "65552b665f174792967808947fa156f6": {
          "model_module": "@jupyter-widgets/controls",
          "model_name": "HBoxModel",
          "model_module_version": "1.5.0",
          "state": {
            "_view_name": "HBoxView",
            "_dom_classes": [],
            "_model_name": "HBoxModel",
            "_view_module": "@jupyter-widgets/controls",
            "_model_module_version": "1.5.0",
            "_view_count": null,
            "_view_module_version": "1.5.0",
            "box_style": "",
            "layout": "IPY_MODEL_e30ed88cdf454520833dd03fc95c7ed5",
            "_model_module": "@jupyter-widgets/controls",
            "children": [
              "IPY_MODEL_288664f8f3094ed5900e1645872ae93f",
              "IPY_MODEL_07209a328af44e29ab61b9894dfe35a1",
              "IPY_MODEL_df1484e48e4c4c91b36dbfe0d3685737"
            ]
          }
        },
        "e30ed88cdf454520833dd03fc95c7ed5": {
          "model_module": "@jupyter-widgets/base",
          "model_name": "LayoutModel",
          "model_module_version": "1.2.0",
          "state": {
            "_view_name": "LayoutView",
            "grid_template_rows": null,
            "right": null,
            "justify_content": null,
            "_view_module": "@jupyter-widgets/base",
            "overflow": null,
            "_model_module_version": "1.2.0",
            "_view_count": null,
            "flex_flow": null,
            "width": null,
            "min_width": null,
            "border": null,
            "align_items": null,
            "bottom": null,
            "_model_module": "@jupyter-widgets/base",
            "top": null,
            "grid_column": null,
            "overflow_y": null,
            "overflow_x": null,
            "grid_auto_flow": null,
            "grid_area": null,
            "grid_template_columns": null,
            "flex": null,
            "_model_name": "LayoutModel",
            "justify_items": null,
            "grid_row": null,
            "max_height": null,
            "align_content": null,
            "visibility": null,
            "align_self": null,
            "height": null,
            "min_height": null,
            "padding": null,
            "grid_auto_rows": null,
            "grid_gap": null,
            "max_width": null,
            "order": null,
            "_view_module_version": "1.2.0",
            "grid_template_areas": null,
            "object_position": null,
            "object_fit": null,
            "grid_auto_columns": null,
            "margin": null,
            "display": null,
            "left": null
          }
        },
        "288664f8f3094ed5900e1645872ae93f": {
          "model_module": "@jupyter-widgets/controls",
          "model_name": "HTMLModel",
          "model_module_version": "1.5.0",
          "state": {
            "_view_name": "HTMLView",
            "style": "IPY_MODEL_48f8ee7c087a4b32a2955019b9ae0f0d",
            "_dom_classes": [],
            "description": "",
            "_model_name": "HTMLModel",
            "placeholder": "​",
            "_view_module": "@jupyter-widgets/controls",
            "_model_module_version": "1.5.0",
            "value": "Downloading: 100%",
            "_view_count": null,
            "_view_module_version": "1.5.0",
            "description_tooltip": null,
            "_model_module": "@jupyter-widgets/controls",
            "layout": "IPY_MODEL_666ab35348e542868c92112bb21e054d"
          }
        },
        "07209a328af44e29ab61b9894dfe35a1": {
          "model_module": "@jupyter-widgets/controls",
          "model_name": "FloatProgressModel",
          "model_module_version": "1.5.0",
          "state": {
            "_view_name": "ProgressView",
            "style": "IPY_MODEL_4e48c7191d864904ad193703efa29513",
            "_dom_classes": [],
            "description": "",
            "_model_name": "FloatProgressModel",
            "bar_style": "success",
            "max": 466062,
            "_view_module": "@jupyter-widgets/controls",
            "_model_module_version": "1.5.0",
            "value": 466062,
            "_view_count": null,
            "_view_module_version": "1.5.0",
            "orientation": "horizontal",
            "min": 0,
            "description_tooltip": null,
            "_model_module": "@jupyter-widgets/controls",
            "layout": "IPY_MODEL_3d566e5a236a4897bc05ba7dce9448e7"
          }
        },
        "df1484e48e4c4c91b36dbfe0d3685737": {
          "model_module": "@jupyter-widgets/controls",
          "model_name": "HTMLModel",
          "model_module_version": "1.5.0",
          "state": {
            "_view_name": "HTMLView",
            "style": "IPY_MODEL_95b65784223247598d88e1b7acd65582",
            "_dom_classes": [],
            "description": "",
            "_model_name": "HTMLModel",
            "placeholder": "​",
            "_view_module": "@jupyter-widgets/controls",
            "_model_module_version": "1.5.0",
            "value": " 455k/455k [00:00&lt;00:00, 1.39MB/s]",
            "_view_count": null,
            "_view_module_version": "1.5.0",
            "description_tooltip": null,
            "_model_module": "@jupyter-widgets/controls",
            "layout": "IPY_MODEL_dfef0ce6947f424b9a5b5c6c5650b033"
          }
        },
        "48f8ee7c087a4b32a2955019b9ae0f0d": {
          "model_module": "@jupyter-widgets/controls",
          "model_name": "DescriptionStyleModel",
          "model_module_version": "1.5.0",
          "state": {
            "_view_name": "StyleView",
            "_model_name": "DescriptionStyleModel",
            "description_width": "",
            "_view_module": "@jupyter-widgets/base",
            "_model_module_version": "1.5.0",
            "_view_count": null,
            "_view_module_version": "1.2.0",
            "_model_module": "@jupyter-widgets/controls"
          }
        },
        "666ab35348e542868c92112bb21e054d": {
          "model_module": "@jupyter-widgets/base",
          "model_name": "LayoutModel",
          "model_module_version": "1.2.0",
          "state": {
            "_view_name": "LayoutView",
            "grid_template_rows": null,
            "right": null,
            "justify_content": null,
            "_view_module": "@jupyter-widgets/base",
            "overflow": null,
            "_model_module_version": "1.2.0",
            "_view_count": null,
            "flex_flow": null,
            "width": null,
            "min_width": null,
            "border": null,
            "align_items": null,
            "bottom": null,
            "_model_module": "@jupyter-widgets/base",
            "top": null,
            "grid_column": null,
            "overflow_y": null,
            "overflow_x": null,
            "grid_auto_flow": null,
            "grid_area": null,
            "grid_template_columns": null,
            "flex": null,
            "_model_name": "LayoutModel",
            "justify_items": null,
            "grid_row": null,
            "max_height": null,
            "align_content": null,
            "visibility": null,
            "align_self": null,
            "height": null,
            "min_height": null,
            "padding": null,
            "grid_auto_rows": null,
            "grid_gap": null,
            "max_width": null,
            "order": null,
            "_view_module_version": "1.2.0",
            "grid_template_areas": null,
            "object_position": null,
            "object_fit": null,
            "grid_auto_columns": null,
            "margin": null,
            "display": null,
            "left": null
          }
        },
        "4e48c7191d864904ad193703efa29513": {
          "model_module": "@jupyter-widgets/controls",
          "model_name": "ProgressStyleModel",
          "model_module_version": "1.5.0",
          "state": {
            "_view_name": "StyleView",
            "_model_name": "ProgressStyleModel",
            "description_width": "",
            "_view_module": "@jupyter-widgets/base",
            "_model_module_version": "1.5.0",
            "_view_count": null,
            "_view_module_version": "1.2.0",
            "bar_color": null,
            "_model_module": "@jupyter-widgets/controls"
          }
        },
        "3d566e5a236a4897bc05ba7dce9448e7": {
          "model_module": "@jupyter-widgets/base",
          "model_name": "LayoutModel",
          "model_module_version": "1.2.0",
          "state": {
            "_view_name": "LayoutView",
            "grid_template_rows": null,
            "right": null,
            "justify_content": null,
            "_view_module": "@jupyter-widgets/base",
            "overflow": null,
            "_model_module_version": "1.2.0",
            "_view_count": null,
            "flex_flow": null,
            "width": null,
            "min_width": null,
            "border": null,
            "align_items": null,
            "bottom": null,
            "_model_module": "@jupyter-widgets/base",
            "top": null,
            "grid_column": null,
            "overflow_y": null,
            "overflow_x": null,
            "grid_auto_flow": null,
            "grid_area": null,
            "grid_template_columns": null,
            "flex": null,
            "_model_name": "LayoutModel",
            "justify_items": null,
            "grid_row": null,
            "max_height": null,
            "align_content": null,
            "visibility": null,
            "align_self": null,
            "height": null,
            "min_height": null,
            "padding": null,
            "grid_auto_rows": null,
            "grid_gap": null,
            "max_width": null,
            "order": null,
            "_view_module_version": "1.2.0",
            "grid_template_areas": null,
            "object_position": null,
            "object_fit": null,
            "grid_auto_columns": null,
            "margin": null,
            "display": null,
            "left": null
          }
        },
        "95b65784223247598d88e1b7acd65582": {
          "model_module": "@jupyter-widgets/controls",
          "model_name": "DescriptionStyleModel",
          "model_module_version": "1.5.0",
          "state": {
            "_view_name": "StyleView",
            "_model_name": "DescriptionStyleModel",
            "description_width": "",
            "_view_module": "@jupyter-widgets/base",
            "_model_module_version": "1.5.0",
            "_view_count": null,
            "_view_module_version": "1.2.0",
            "_model_module": "@jupyter-widgets/controls"
          }
        },
        "dfef0ce6947f424b9a5b5c6c5650b033": {
          "model_module": "@jupyter-widgets/base",
          "model_name": "LayoutModel",
          "model_module_version": "1.2.0",
          "state": {
            "_view_name": "LayoutView",
            "grid_template_rows": null,
            "right": null,
            "justify_content": null,
            "_view_module": "@jupyter-widgets/base",
            "overflow": null,
            "_model_module_version": "1.2.0",
            "_view_count": null,
            "flex_flow": null,
            "width": null,
            "min_width": null,
            "border": null,
            "align_items": null,
            "bottom": null,
            "_model_module": "@jupyter-widgets/base",
            "top": null,
            "grid_column": null,
            "overflow_y": null,
            "overflow_x": null,
            "grid_auto_flow": null,
            "grid_area": null,
            "grid_template_columns": null,
            "flex": null,
            "_model_name": "LayoutModel",
            "justify_items": null,
            "grid_row": null,
            "max_height": null,
            "align_content": null,
            "visibility": null,
            "align_self": null,
            "height": null,
            "min_height": null,
            "padding": null,
            "grid_auto_rows": null,
            "grid_gap": null,
            "max_width": null,
            "order": null,
            "_view_module_version": "1.2.0",
            "grid_template_areas": null,
            "object_position": null,
            "object_fit": null,
            "grid_auto_columns": null,
            "margin": null,
            "display": null,
            "left": null
          }
        },
        "5b06c65a40d74a6790df746a08ca4574": {
          "model_module": "@jupyter-widgets/controls",
          "model_name": "HBoxModel",
          "model_module_version": "1.5.0",
          "state": {
            "_view_name": "HBoxView",
            "_dom_classes": [],
            "_model_name": "HBoxModel",
            "_view_module": "@jupyter-widgets/controls",
            "_model_module_version": "1.5.0",
            "_view_count": null,
            "_view_module_version": "1.5.0",
            "box_style": "",
            "layout": "IPY_MODEL_2914c17be4084fed8001ce2635ebd5a9",
            "_model_module": "@jupyter-widgets/controls",
            "children": [
              "IPY_MODEL_44313987b1464311befb0f73931ed004",
              "IPY_MODEL_ee94ba9d35a7469494ca9913506fd90b",
              "IPY_MODEL_79e6d9addedc404cbab34a60b27efcf3"
            ]
          }
        },
        "2914c17be4084fed8001ce2635ebd5a9": {
          "model_module": "@jupyter-widgets/base",
          "model_name": "LayoutModel",
          "model_module_version": "1.2.0",
          "state": {
            "_view_name": "LayoutView",
            "grid_template_rows": null,
            "right": null,
            "justify_content": null,
            "_view_module": "@jupyter-widgets/base",
            "overflow": null,
            "_model_module_version": "1.2.0",
            "_view_count": null,
            "flex_flow": null,
            "width": null,
            "min_width": null,
            "border": null,
            "align_items": null,
            "bottom": null,
            "_model_module": "@jupyter-widgets/base",
            "top": null,
            "grid_column": null,
            "overflow_y": null,
            "overflow_x": null,
            "grid_auto_flow": null,
            "grid_area": null,
            "grid_template_columns": null,
            "flex": null,
            "_model_name": "LayoutModel",
            "justify_items": null,
            "grid_row": null,
            "max_height": null,
            "align_content": null,
            "visibility": null,
            "align_self": null,
            "height": null,
            "min_height": null,
            "padding": null,
            "grid_auto_rows": null,
            "grid_gap": null,
            "max_width": null,
            "order": null,
            "_view_module_version": "1.2.0",
            "grid_template_areas": null,
            "object_position": null,
            "object_fit": null,
            "grid_auto_columns": null,
            "margin": null,
            "display": null,
            "left": null
          }
        },
        "44313987b1464311befb0f73931ed004": {
          "model_module": "@jupyter-widgets/controls",
          "model_name": "HTMLModel",
          "model_module_version": "1.5.0",
          "state": {
            "_view_name": "HTMLView",
            "style": "IPY_MODEL_38b63c54fe9246038b88c24f2b92989c",
            "_dom_classes": [],
            "description": "",
            "_model_name": "HTMLModel",
            "placeholder": "​",
            "_view_module": "@jupyter-widgets/controls",
            "_model_module_version": "1.5.0",
            "value": "Downloading: 100%",
            "_view_count": null,
            "_view_module_version": "1.5.0",
            "description_tooltip": null,
            "_model_module": "@jupyter-widgets/controls",
            "layout": "IPY_MODEL_77b46df6fce74e8e989c33e622a163f8"
          }
        },
        "ee94ba9d35a7469494ca9913506fd90b": {
          "model_module": "@jupyter-widgets/controls",
          "model_name": "FloatProgressModel",
          "model_module_version": "1.5.0",
          "state": {
            "_view_name": "ProgressView",
            "style": "IPY_MODEL_5a6061a4ed454d5da5fba054f6a36279",
            "_dom_classes": [],
            "description": "",
            "_model_name": "FloatProgressModel",
            "bar_style": "success",
            "max": 570,
            "_view_module": "@jupyter-widgets/controls",
            "_model_module_version": "1.5.0",
            "value": 570,
            "_view_count": null,
            "_view_module_version": "1.5.0",
            "orientation": "horizontal",
            "min": 0,
            "description_tooltip": null,
            "_model_module": "@jupyter-widgets/controls",
            "layout": "IPY_MODEL_0e779e42a43641e789a97c210e4ff76e"
          }
        },
        "79e6d9addedc404cbab34a60b27efcf3": {
          "model_module": "@jupyter-widgets/controls",
          "model_name": "HTMLModel",
          "model_module_version": "1.5.0",
          "state": {
            "_view_name": "HTMLView",
            "style": "IPY_MODEL_d960fc370015421c9b5bafdc4ee0a01a",
            "_dom_classes": [],
            "description": "",
            "_model_name": "HTMLModel",
            "placeholder": "​",
            "_view_module": "@jupyter-widgets/controls",
            "_model_module_version": "1.5.0",
            "value": " 570/570 [00:00&lt;00:00, 11.8kB/s]",
            "_view_count": null,
            "_view_module_version": "1.5.0",
            "description_tooltip": null,
            "_model_module": "@jupyter-widgets/controls",
            "layout": "IPY_MODEL_07e83a7973e5453c87cdcfa04d510e09"
          }
        },
        "38b63c54fe9246038b88c24f2b92989c": {
          "model_module": "@jupyter-widgets/controls",
          "model_name": "DescriptionStyleModel",
          "model_module_version": "1.5.0",
          "state": {
            "_view_name": "StyleView",
            "_model_name": "DescriptionStyleModel",
            "description_width": "",
            "_view_module": "@jupyter-widgets/base",
            "_model_module_version": "1.5.0",
            "_view_count": null,
            "_view_module_version": "1.2.0",
            "_model_module": "@jupyter-widgets/controls"
          }
        },
        "77b46df6fce74e8e989c33e622a163f8": {
          "model_module": "@jupyter-widgets/base",
          "model_name": "LayoutModel",
          "model_module_version": "1.2.0",
          "state": {
            "_view_name": "LayoutView",
            "grid_template_rows": null,
            "right": null,
            "justify_content": null,
            "_view_module": "@jupyter-widgets/base",
            "overflow": null,
            "_model_module_version": "1.2.0",
            "_view_count": null,
            "flex_flow": null,
            "width": null,
            "min_width": null,
            "border": null,
            "align_items": null,
            "bottom": null,
            "_model_module": "@jupyter-widgets/base",
            "top": null,
            "grid_column": null,
            "overflow_y": null,
            "overflow_x": null,
            "grid_auto_flow": null,
            "grid_area": null,
            "grid_template_columns": null,
            "flex": null,
            "_model_name": "LayoutModel",
            "justify_items": null,
            "grid_row": null,
            "max_height": null,
            "align_content": null,
            "visibility": null,
            "align_self": null,
            "height": null,
            "min_height": null,
            "padding": null,
            "grid_auto_rows": null,
            "grid_gap": null,
            "max_width": null,
            "order": null,
            "_view_module_version": "1.2.0",
            "grid_template_areas": null,
            "object_position": null,
            "object_fit": null,
            "grid_auto_columns": null,
            "margin": null,
            "display": null,
            "left": null
          }
        },
        "5a6061a4ed454d5da5fba054f6a36279": {
          "model_module": "@jupyter-widgets/controls",
          "model_name": "ProgressStyleModel",
          "model_module_version": "1.5.0",
          "state": {
            "_view_name": "StyleView",
            "_model_name": "ProgressStyleModel",
            "description_width": "",
            "_view_module": "@jupyter-widgets/base",
            "_model_module_version": "1.5.0",
            "_view_count": null,
            "_view_module_version": "1.2.0",
            "bar_color": null,
            "_model_module": "@jupyter-widgets/controls"
          }
        },
        "0e779e42a43641e789a97c210e4ff76e": {
          "model_module": "@jupyter-widgets/base",
          "model_name": "LayoutModel",
          "model_module_version": "1.2.0",
          "state": {
            "_view_name": "LayoutView",
            "grid_template_rows": null,
            "right": null,
            "justify_content": null,
            "_view_module": "@jupyter-widgets/base",
            "overflow": null,
            "_model_module_version": "1.2.0",
            "_view_count": null,
            "flex_flow": null,
            "width": null,
            "min_width": null,
            "border": null,
            "align_items": null,
            "bottom": null,
            "_model_module": "@jupyter-widgets/base",
            "top": null,
            "grid_column": null,
            "overflow_y": null,
            "overflow_x": null,
            "grid_auto_flow": null,
            "grid_area": null,
            "grid_template_columns": null,
            "flex": null,
            "_model_name": "LayoutModel",
            "justify_items": null,
            "grid_row": null,
            "max_height": null,
            "align_content": null,
            "visibility": null,
            "align_self": null,
            "height": null,
            "min_height": null,
            "padding": null,
            "grid_auto_rows": null,
            "grid_gap": null,
            "max_width": null,
            "order": null,
            "_view_module_version": "1.2.0",
            "grid_template_areas": null,
            "object_position": null,
            "object_fit": null,
            "grid_auto_columns": null,
            "margin": null,
            "display": null,
            "left": null
          }
        },
        "d960fc370015421c9b5bafdc4ee0a01a": {
          "model_module": "@jupyter-widgets/controls",
          "model_name": "DescriptionStyleModel",
          "model_module_version": "1.5.0",
          "state": {
            "_view_name": "StyleView",
            "_model_name": "DescriptionStyleModel",
            "description_width": "",
            "_view_module": "@jupyter-widgets/base",
            "_model_module_version": "1.5.0",
            "_view_count": null,
            "_view_module_version": "1.2.0",
            "_model_module": "@jupyter-widgets/controls"
          }
        },
        "07e83a7973e5453c87cdcfa04d510e09": {
          "model_module": "@jupyter-widgets/base",
          "model_name": "LayoutModel",
          "model_module_version": "1.2.0",
          "state": {
            "_view_name": "LayoutView",
            "grid_template_rows": null,
            "right": null,
            "justify_content": null,
            "_view_module": "@jupyter-widgets/base",
            "overflow": null,
            "_model_module_version": "1.2.0",
            "_view_count": null,
            "flex_flow": null,
            "width": null,
            "min_width": null,
            "border": null,
            "align_items": null,
            "bottom": null,
            "_model_module": "@jupyter-widgets/base",
            "top": null,
            "grid_column": null,
            "overflow_y": null,
            "overflow_x": null,
            "grid_auto_flow": null,
            "grid_area": null,
            "grid_template_columns": null,
            "flex": null,
            "_model_name": "LayoutModel",
            "justify_items": null,
            "grid_row": null,
            "max_height": null,
            "align_content": null,
            "visibility": null,
            "align_self": null,
            "height": null,
            "min_height": null,
            "padding": null,
            "grid_auto_rows": null,
            "grid_gap": null,
            "max_width": null,
            "order": null,
            "_view_module_version": "1.2.0",
            "grid_template_areas": null,
            "object_position": null,
            "object_fit": null,
            "grid_auto_columns": null,
            "margin": null,
            "display": null,
            "left": null
          }
        },
        "3511c2e7e85640a686891c7a67a0e78a": {
          "model_module": "@jupyter-widgets/controls",
          "model_name": "HBoxModel",
          "model_module_version": "1.5.0",
          "state": {
            "_view_name": "HBoxView",
            "_dom_classes": [],
            "_model_name": "HBoxModel",
            "_view_module": "@jupyter-widgets/controls",
            "_model_module_version": "1.5.0",
            "_view_count": null,
            "_view_module_version": "1.5.0",
            "box_style": "",
            "layout": "IPY_MODEL_b8973e8f2cc044ba869eb4feeb1abb41",
            "_model_module": "@jupyter-widgets/controls",
            "children": [
              "IPY_MODEL_122133b5ba0b4e44b54ced844b37122d",
              "IPY_MODEL_4975b0d2f8004c9d9ba3b9022a66a1ab",
              "IPY_MODEL_a10810ccecb84f7b9528c5876b4e11b0"
            ]
          }
        },
        "b8973e8f2cc044ba869eb4feeb1abb41": {
          "model_module": "@jupyter-widgets/base",
          "model_name": "LayoutModel",
          "model_module_version": "1.2.0",
          "state": {
            "_view_name": "LayoutView",
            "grid_template_rows": null,
            "right": null,
            "justify_content": null,
            "_view_module": "@jupyter-widgets/base",
            "overflow": null,
            "_model_module_version": "1.2.0",
            "_view_count": null,
            "flex_flow": null,
            "width": null,
            "min_width": null,
            "border": null,
            "align_items": null,
            "bottom": null,
            "_model_module": "@jupyter-widgets/base",
            "top": null,
            "grid_column": null,
            "overflow_y": null,
            "overflow_x": null,
            "grid_auto_flow": null,
            "grid_area": null,
            "grid_template_columns": null,
            "flex": null,
            "_model_name": "LayoutModel",
            "justify_items": null,
            "grid_row": null,
            "max_height": null,
            "align_content": null,
            "visibility": null,
            "align_self": null,
            "height": null,
            "min_height": null,
            "padding": null,
            "grid_auto_rows": null,
            "grid_gap": null,
            "max_width": null,
            "order": null,
            "_view_module_version": "1.2.0",
            "grid_template_areas": null,
            "object_position": null,
            "object_fit": null,
            "grid_auto_columns": null,
            "margin": null,
            "display": null,
            "left": null
          }
        },
        "122133b5ba0b4e44b54ced844b37122d": {
          "model_module": "@jupyter-widgets/controls",
          "model_name": "HTMLModel",
          "model_module_version": "1.5.0",
          "state": {
            "_view_name": "HTMLView",
            "style": "IPY_MODEL_11d234106b2b48809a0ed6553fcaea41",
            "_dom_classes": [],
            "description": "",
            "_model_name": "HTMLModel",
            "placeholder": "​",
            "_view_module": "@jupyter-widgets/controls",
            "_model_module_version": "1.5.0",
            "value": "Downloading: 100%",
            "_view_count": null,
            "_view_module_version": "1.5.0",
            "description_tooltip": null,
            "_model_module": "@jupyter-widgets/controls",
            "layout": "IPY_MODEL_93754ba4f6654645b6ff9566591dfcd4"
          }
        },
        "4975b0d2f8004c9d9ba3b9022a66a1ab": {
          "model_module": "@jupyter-widgets/controls",
          "model_name": "FloatProgressModel",
          "model_module_version": "1.5.0",
          "state": {
            "_view_name": "ProgressView",
            "style": "IPY_MODEL_6052d22a8a9c45d8b6e7c39309bef4e1",
            "_dom_classes": [],
            "description": "",
            "_model_name": "FloatProgressModel",
            "bar_style": "success",
            "max": 242585,
            "_view_module": "@jupyter-widgets/controls",
            "_model_module_version": "1.5.0",
            "value": 242585,
            "_view_count": null,
            "_view_module_version": "1.5.0",
            "orientation": "horizontal",
            "min": 0,
            "description_tooltip": null,
            "_model_module": "@jupyter-widgets/controls",
            "layout": "IPY_MODEL_d9a716fca6184cd1823e3fbd45eca3bb"
          }
        },
        "a10810ccecb84f7b9528c5876b4e11b0": {
          "model_module": "@jupyter-widgets/controls",
          "model_name": "HTMLModel",
          "model_module_version": "1.5.0",
          "state": {
            "_view_name": "HTMLView",
            "style": "IPY_MODEL_09bb8d6df4064dafa0700e451e77bc01",
            "_dom_classes": [],
            "description": "",
            "_model_name": "HTMLModel",
            "placeholder": "​",
            "_view_module": "@jupyter-widgets/controls",
            "_model_module_version": "1.5.0",
            "value": " 237k/237k [00:00&lt;00:00, 1.10MB/s]",
            "_view_count": null,
            "_view_module_version": "1.5.0",
            "description_tooltip": null,
            "_model_module": "@jupyter-widgets/controls",
            "layout": "IPY_MODEL_c222a3395534463394a92edaac3fc7bc"
          }
        },
        "11d234106b2b48809a0ed6553fcaea41": {
          "model_module": "@jupyter-widgets/controls",
          "model_name": "DescriptionStyleModel",
          "model_module_version": "1.5.0",
          "state": {
            "_view_name": "StyleView",
            "_model_name": "DescriptionStyleModel",
            "description_width": "",
            "_view_module": "@jupyter-widgets/base",
            "_model_module_version": "1.5.0",
            "_view_count": null,
            "_view_module_version": "1.2.0",
            "_model_module": "@jupyter-widgets/controls"
          }
        },
        "93754ba4f6654645b6ff9566591dfcd4": {
          "model_module": "@jupyter-widgets/base",
          "model_name": "LayoutModel",
          "model_module_version": "1.2.0",
          "state": {
            "_view_name": "LayoutView",
            "grid_template_rows": null,
            "right": null,
            "justify_content": null,
            "_view_module": "@jupyter-widgets/base",
            "overflow": null,
            "_model_module_version": "1.2.0",
            "_view_count": null,
            "flex_flow": null,
            "width": null,
            "min_width": null,
            "border": null,
            "align_items": null,
            "bottom": null,
            "_model_module": "@jupyter-widgets/base",
            "top": null,
            "grid_column": null,
            "overflow_y": null,
            "overflow_x": null,
            "grid_auto_flow": null,
            "grid_area": null,
            "grid_template_columns": null,
            "flex": null,
            "_model_name": "LayoutModel",
            "justify_items": null,
            "grid_row": null,
            "max_height": null,
            "align_content": null,
            "visibility": null,
            "align_self": null,
            "height": null,
            "min_height": null,
            "padding": null,
            "grid_auto_rows": null,
            "grid_gap": null,
            "max_width": null,
            "order": null,
            "_view_module_version": "1.2.0",
            "grid_template_areas": null,
            "object_position": null,
            "object_fit": null,
            "grid_auto_columns": null,
            "margin": null,
            "display": null,
            "left": null
          }
        },
        "6052d22a8a9c45d8b6e7c39309bef4e1": {
          "model_module": "@jupyter-widgets/controls",
          "model_name": "ProgressStyleModel",
          "model_module_version": "1.5.0",
          "state": {
            "_view_name": "StyleView",
            "_model_name": "ProgressStyleModel",
            "description_width": "",
            "_view_module": "@jupyter-widgets/base",
            "_model_module_version": "1.5.0",
            "_view_count": null,
            "_view_module_version": "1.2.0",
            "bar_color": null,
            "_model_module": "@jupyter-widgets/controls"
          }
        },
        "d9a716fca6184cd1823e3fbd45eca3bb": {
          "model_module": "@jupyter-widgets/base",
          "model_name": "LayoutModel",
          "model_module_version": "1.2.0",
          "state": {
            "_view_name": "LayoutView",
            "grid_template_rows": null,
            "right": null,
            "justify_content": null,
            "_view_module": "@jupyter-widgets/base",
            "overflow": null,
            "_model_module_version": "1.2.0",
            "_view_count": null,
            "flex_flow": null,
            "width": null,
            "min_width": null,
            "border": null,
            "align_items": null,
            "bottom": null,
            "_model_module": "@jupyter-widgets/base",
            "top": null,
            "grid_column": null,
            "overflow_y": null,
            "overflow_x": null,
            "grid_auto_flow": null,
            "grid_area": null,
            "grid_template_columns": null,
            "flex": null,
            "_model_name": "LayoutModel",
            "justify_items": null,
            "grid_row": null,
            "max_height": null,
            "align_content": null,
            "visibility": null,
            "align_self": null,
            "height": null,
            "min_height": null,
            "padding": null,
            "grid_auto_rows": null,
            "grid_gap": null,
            "max_width": null,
            "order": null,
            "_view_module_version": "1.2.0",
            "grid_template_areas": null,
            "object_position": null,
            "object_fit": null,
            "grid_auto_columns": null,
            "margin": null,
            "display": null,
            "left": null
          }
        },
        "09bb8d6df4064dafa0700e451e77bc01": {
          "model_module": "@jupyter-widgets/controls",
          "model_name": "DescriptionStyleModel",
          "model_module_version": "1.5.0",
          "state": {
            "_view_name": "StyleView",
            "_model_name": "DescriptionStyleModel",
            "description_width": "",
            "_view_module": "@jupyter-widgets/base",
            "_model_module_version": "1.5.0",
            "_view_count": null,
            "_view_module_version": "1.2.0",
            "_model_module": "@jupyter-widgets/controls"
          }
        },
        "c222a3395534463394a92edaac3fc7bc": {
          "model_module": "@jupyter-widgets/base",
          "model_name": "LayoutModel",
          "model_module_version": "1.2.0",
          "state": {
            "_view_name": "LayoutView",
            "grid_template_rows": null,
            "right": null,
            "justify_content": null,
            "_view_module": "@jupyter-widgets/base",
            "overflow": null,
            "_model_module_version": "1.2.0",
            "_view_count": null,
            "flex_flow": null,
            "width": null,
            "min_width": null,
            "border": null,
            "align_items": null,
            "bottom": null,
            "_model_module": "@jupyter-widgets/base",
            "top": null,
            "grid_column": null,
            "overflow_y": null,
            "overflow_x": null,
            "grid_auto_flow": null,
            "grid_area": null,
            "grid_template_columns": null,
            "flex": null,
            "_model_name": "LayoutModel",
            "justify_items": null,
            "grid_row": null,
            "max_height": null,
            "align_content": null,
            "visibility": null,
            "align_self": null,
            "height": null,
            "min_height": null,
            "padding": null,
            "grid_auto_rows": null,
            "grid_gap": null,
            "max_width": null,
            "order": null,
            "_view_module_version": "1.2.0",
            "grid_template_areas": null,
            "object_position": null,
            "object_fit": null,
            "grid_auto_columns": null,
            "margin": null,
            "display": null,
            "left": null
          }
        },
        "c2f3a9366d774eae8f7c4ee09e1bc77b": {
          "model_module": "@jupyter-widgets/controls",
          "model_name": "HBoxModel",
          "model_module_version": "1.5.0",
          "state": {
            "_view_name": "HBoxView",
            "_dom_classes": [],
            "_model_name": "HBoxModel",
            "_view_module": "@jupyter-widgets/controls",
            "_model_module_version": "1.5.0",
            "_view_count": null,
            "_view_module_version": "1.5.0",
            "box_style": "",
            "layout": "IPY_MODEL_c730c9a0f4024fbba99b9b26eee841ea",
            "_model_module": "@jupyter-widgets/controls",
            "children": [
              "IPY_MODEL_75b811855f3c4f7f86c22f304e40479f",
              "IPY_MODEL_7099f7ac0aaf40eaa9387531f85bf3aa",
              "IPY_MODEL_00d0f86358c5478ca18856f8ac48a524"
            ]
          }
        },
        "c730c9a0f4024fbba99b9b26eee841ea": {
          "model_module": "@jupyter-widgets/base",
          "model_name": "LayoutModel",
          "model_module_version": "1.2.0",
          "state": {
            "_view_name": "LayoutView",
            "grid_template_rows": null,
            "right": null,
            "justify_content": null,
            "_view_module": "@jupyter-widgets/base",
            "overflow": null,
            "_model_module_version": "1.2.0",
            "_view_count": null,
            "flex_flow": null,
            "width": null,
            "min_width": null,
            "border": null,
            "align_items": null,
            "bottom": null,
            "_model_module": "@jupyter-widgets/base",
            "top": null,
            "grid_column": null,
            "overflow_y": null,
            "overflow_x": null,
            "grid_auto_flow": null,
            "grid_area": null,
            "grid_template_columns": null,
            "flex": null,
            "_model_name": "LayoutModel",
            "justify_items": null,
            "grid_row": null,
            "max_height": null,
            "align_content": null,
            "visibility": null,
            "align_self": null,
            "height": null,
            "min_height": null,
            "padding": null,
            "grid_auto_rows": null,
            "grid_gap": null,
            "max_width": null,
            "order": null,
            "_view_module_version": "1.2.0",
            "grid_template_areas": null,
            "object_position": null,
            "object_fit": null,
            "grid_auto_columns": null,
            "margin": null,
            "display": null,
            "left": null
          }
        },
        "75b811855f3c4f7f86c22f304e40479f": {
          "model_module": "@jupyter-widgets/controls",
          "model_name": "HTMLModel",
          "model_module_version": "1.5.0",
          "state": {
            "_view_name": "HTMLView",
            "style": "IPY_MODEL_a28775c7a40f4d71b1d390f1412cfe54",
            "_dom_classes": [],
            "description": "",
            "_model_name": "HTMLModel",
            "placeholder": "​",
            "_view_module": "@jupyter-widgets/controls",
            "_model_module_version": "1.5.0",
            "value": "Downloading: 100%",
            "_view_count": null,
            "_view_module_version": "1.5.0",
            "description_tooltip": null,
            "_model_module": "@jupyter-widgets/controls",
            "layout": "IPY_MODEL_00df7f58ca8b49a99ecd60e1293cf00b"
          }
        },
        "7099f7ac0aaf40eaa9387531f85bf3aa": {
          "model_module": "@jupyter-widgets/controls",
          "model_name": "FloatProgressModel",
          "model_module_version": "1.5.0",
          "state": {
            "_view_name": "ProgressView",
            "style": "IPY_MODEL_143784d680d3407db204a14096766c36",
            "_dom_classes": [],
            "description": "",
            "_model_name": "FloatProgressModel",
            "bar_style": "success",
            "max": 59,
            "_view_module": "@jupyter-widgets/controls",
            "_model_module_version": "1.5.0",
            "value": 59,
            "_view_count": null,
            "_view_module_version": "1.5.0",
            "orientation": "horizontal",
            "min": 0,
            "description_tooltip": null,
            "_model_module": "@jupyter-widgets/controls",
            "layout": "IPY_MODEL_4c617185190445a1bb935c40fda8fda3"
          }
        },
        "00d0f86358c5478ca18856f8ac48a524": {
          "model_module": "@jupyter-widgets/controls",
          "model_name": "HTMLModel",
          "model_module_version": "1.5.0",
          "state": {
            "_view_name": "HTMLView",
            "style": "IPY_MODEL_883cfbd9fa4948b0b033b821966fb124",
            "_dom_classes": [],
            "description": "",
            "_model_name": "HTMLModel",
            "placeholder": "​",
            "_view_module": "@jupyter-widgets/controls",
            "_model_module_version": "1.5.0",
            "value": " 59.0/59.0 [00:00&lt;00:00, 744B/s]",
            "_view_count": null,
            "_view_module_version": "1.5.0",
            "description_tooltip": null,
            "_model_module": "@jupyter-widgets/controls",
            "layout": "IPY_MODEL_cdfcfbffe6d44d7f90235f15992f2d09"
          }
        },
        "a28775c7a40f4d71b1d390f1412cfe54": {
          "model_module": "@jupyter-widgets/controls",
          "model_name": "DescriptionStyleModel",
          "model_module_version": "1.5.0",
          "state": {
            "_view_name": "StyleView",
            "_model_name": "DescriptionStyleModel",
            "description_width": "",
            "_view_module": "@jupyter-widgets/base",
            "_model_module_version": "1.5.0",
            "_view_count": null,
            "_view_module_version": "1.2.0",
            "_model_module": "@jupyter-widgets/controls"
          }
        },
        "00df7f58ca8b49a99ecd60e1293cf00b": {
          "model_module": "@jupyter-widgets/base",
          "model_name": "LayoutModel",
          "model_module_version": "1.2.0",
          "state": {
            "_view_name": "LayoutView",
            "grid_template_rows": null,
            "right": null,
            "justify_content": null,
            "_view_module": "@jupyter-widgets/base",
            "overflow": null,
            "_model_module_version": "1.2.0",
            "_view_count": null,
            "flex_flow": null,
            "width": null,
            "min_width": null,
            "border": null,
            "align_items": null,
            "bottom": null,
            "_model_module": "@jupyter-widgets/base",
            "top": null,
            "grid_column": null,
            "overflow_y": null,
            "overflow_x": null,
            "grid_auto_flow": null,
            "grid_area": null,
            "grid_template_columns": null,
            "flex": null,
            "_model_name": "LayoutModel",
            "justify_items": null,
            "grid_row": null,
            "max_height": null,
            "align_content": null,
            "visibility": null,
            "align_self": null,
            "height": null,
            "min_height": null,
            "padding": null,
            "grid_auto_rows": null,
            "grid_gap": null,
            "max_width": null,
            "order": null,
            "_view_module_version": "1.2.0",
            "grid_template_areas": null,
            "object_position": null,
            "object_fit": null,
            "grid_auto_columns": null,
            "margin": null,
            "display": null,
            "left": null
          }
        },
        "143784d680d3407db204a14096766c36": {
          "model_module": "@jupyter-widgets/controls",
          "model_name": "ProgressStyleModel",
          "model_module_version": "1.5.0",
          "state": {
            "_view_name": "StyleView",
            "_model_name": "ProgressStyleModel",
            "description_width": "",
            "_view_module": "@jupyter-widgets/base",
            "_model_module_version": "1.5.0",
            "_view_count": null,
            "_view_module_version": "1.2.0",
            "bar_color": null,
            "_model_module": "@jupyter-widgets/controls"
          }
        },
        "4c617185190445a1bb935c40fda8fda3": {
          "model_module": "@jupyter-widgets/base",
          "model_name": "LayoutModel",
          "model_module_version": "1.2.0",
          "state": {
            "_view_name": "LayoutView",
            "grid_template_rows": null,
            "right": null,
            "justify_content": null,
            "_view_module": "@jupyter-widgets/base",
            "overflow": null,
            "_model_module_version": "1.2.0",
            "_view_count": null,
            "flex_flow": null,
            "width": null,
            "min_width": null,
            "border": null,
            "align_items": null,
            "bottom": null,
            "_model_module": "@jupyter-widgets/base",
            "top": null,
            "grid_column": null,
            "overflow_y": null,
            "overflow_x": null,
            "grid_auto_flow": null,
            "grid_area": null,
            "grid_template_columns": null,
            "flex": null,
            "_model_name": "LayoutModel",
            "justify_items": null,
            "grid_row": null,
            "max_height": null,
            "align_content": null,
            "visibility": null,
            "align_self": null,
            "height": null,
            "min_height": null,
            "padding": null,
            "grid_auto_rows": null,
            "grid_gap": null,
            "max_width": null,
            "order": null,
            "_view_module_version": "1.2.0",
            "grid_template_areas": null,
            "object_position": null,
            "object_fit": null,
            "grid_auto_columns": null,
            "margin": null,
            "display": null,
            "left": null
          }
        },
        "883cfbd9fa4948b0b033b821966fb124": {
          "model_module": "@jupyter-widgets/controls",
          "model_name": "DescriptionStyleModel",
          "model_module_version": "1.5.0",
          "state": {
            "_view_name": "StyleView",
            "_model_name": "DescriptionStyleModel",
            "description_width": "",
            "_view_module": "@jupyter-widgets/base",
            "_model_module_version": "1.5.0",
            "_view_count": null,
            "_view_module_version": "1.2.0",
            "_model_module": "@jupyter-widgets/controls"
          }
        },
        "cdfcfbffe6d44d7f90235f15992f2d09": {
          "model_module": "@jupyter-widgets/base",
          "model_name": "LayoutModel",
          "model_module_version": "1.2.0",
          "state": {
            "_view_name": "LayoutView",
            "grid_template_rows": null,
            "right": null,
            "justify_content": null,
            "_view_module": "@jupyter-widgets/base",
            "overflow": null,
            "_model_module_version": "1.2.0",
            "_view_count": null,
            "flex_flow": null,
            "width": null,
            "min_width": null,
            "border": null,
            "align_items": null,
            "bottom": null,
            "_model_module": "@jupyter-widgets/base",
            "top": null,
            "grid_column": null,
            "overflow_y": null,
            "overflow_x": null,
            "grid_auto_flow": null,
            "grid_area": null,
            "grid_template_columns": null,
            "flex": null,
            "_model_name": "LayoutModel",
            "justify_items": null,
            "grid_row": null,
            "max_height": null,
            "align_content": null,
            "visibility": null,
            "align_self": null,
            "height": null,
            "min_height": null,
            "padding": null,
            "grid_auto_rows": null,
            "grid_gap": null,
            "max_width": null,
            "order": null,
            "_view_module_version": "1.2.0",
            "grid_template_areas": null,
            "object_position": null,
            "object_fit": null,
            "grid_auto_columns": null,
            "margin": null,
            "display": null,
            "left": null
          }
        },
        "785fd1d08dc848739adce5a4e74d7b40": {
          "model_module": "@jupyter-widgets/controls",
          "model_name": "HBoxModel",
          "model_module_version": "1.5.0",
          "state": {
            "_view_name": "HBoxView",
            "_dom_classes": [],
            "_model_name": "HBoxModel",
            "_view_module": "@jupyter-widgets/controls",
            "_model_module_version": "1.5.0",
            "_view_count": null,
            "_view_module_version": "1.5.0",
            "box_style": "",
            "layout": "IPY_MODEL_6471788dc9894831ae41323472803987",
            "_model_module": "@jupyter-widgets/controls",
            "children": [
              "IPY_MODEL_2a458c016eca454db0f11312e7abba51",
              "IPY_MODEL_13a3ed09cf614fb3a6dd0c0beb0e9e98",
              "IPY_MODEL_46610515e6e749d78719cd554af7fd6f"
            ]
          }
        },
        "6471788dc9894831ae41323472803987": {
          "model_module": "@jupyter-widgets/base",
          "model_name": "LayoutModel",
          "model_module_version": "1.2.0",
          "state": {
            "_view_name": "LayoutView",
            "grid_template_rows": null,
            "right": null,
            "justify_content": null,
            "_view_module": "@jupyter-widgets/base",
            "overflow": null,
            "_model_module_version": "1.2.0",
            "_view_count": null,
            "flex_flow": null,
            "width": null,
            "min_width": null,
            "border": null,
            "align_items": null,
            "bottom": null,
            "_model_module": "@jupyter-widgets/base",
            "top": null,
            "grid_column": null,
            "overflow_y": null,
            "overflow_x": null,
            "grid_auto_flow": null,
            "grid_area": null,
            "grid_template_columns": null,
            "flex": null,
            "_model_name": "LayoutModel",
            "justify_items": null,
            "grid_row": null,
            "max_height": null,
            "align_content": null,
            "visibility": null,
            "align_self": null,
            "height": null,
            "min_height": null,
            "padding": null,
            "grid_auto_rows": null,
            "grid_gap": null,
            "max_width": null,
            "order": null,
            "_view_module_version": "1.2.0",
            "grid_template_areas": null,
            "object_position": null,
            "object_fit": null,
            "grid_auto_columns": null,
            "margin": null,
            "display": null,
            "left": null
          }
        },
        "2a458c016eca454db0f11312e7abba51": {
          "model_module": "@jupyter-widgets/controls",
          "model_name": "HTMLModel",
          "model_module_version": "1.5.0",
          "state": {
            "_view_name": "HTMLView",
            "style": "IPY_MODEL_8f86e537d1654a73825419b81e8e97df",
            "_dom_classes": [],
            "description": "",
            "_model_name": "HTMLModel",
            "placeholder": "​",
            "_view_module": "@jupyter-widgets/controls",
            "_model_module_version": "1.5.0",
            "value": "Downloading: 100%",
            "_view_count": null,
            "_view_module_version": "1.5.0",
            "description_tooltip": null,
            "_model_module": "@jupyter-widgets/controls",
            "layout": "IPY_MODEL_7719a9e8084d4f8ba66f84aa837b0a32"
          }
        },
        "13a3ed09cf614fb3a6dd0c0beb0e9e98": {
          "model_module": "@jupyter-widgets/controls",
          "model_name": "FloatProgressModel",
          "model_module_version": "1.5.0",
          "state": {
            "_view_name": "ProgressView",
            "style": "IPY_MODEL_b5f7fbaaeaf845eb90e179bfdc83f13b",
            "_dom_classes": [],
            "description": "",
            "_model_name": "FloatProgressModel",
            "bar_style": "success",
            "max": 433,
            "_view_module": "@jupyter-widgets/controls",
            "_model_module_version": "1.5.0",
            "value": 433,
            "_view_count": null,
            "_view_module_version": "1.5.0",
            "orientation": "horizontal",
            "min": 0,
            "description_tooltip": null,
            "_model_module": "@jupyter-widgets/controls",
            "layout": "IPY_MODEL_be00424d8eef41e7a2742aa19b271d02"
          }
        },
        "46610515e6e749d78719cd554af7fd6f": {
          "model_module": "@jupyter-widgets/controls",
          "model_name": "HTMLModel",
          "model_module_version": "1.5.0",
          "state": {
            "_view_name": "HTMLView",
            "style": "IPY_MODEL_19615a59c29e488fbd79dedd9c3e825e",
            "_dom_classes": [],
            "description": "",
            "_model_name": "HTMLModel",
            "placeholder": "​",
            "_view_module": "@jupyter-widgets/controls",
            "_model_module_version": "1.5.0",
            "value": " 433/433 [00:00&lt;00:00, 8.06kB/s]",
            "_view_count": null,
            "_view_module_version": "1.5.0",
            "description_tooltip": null,
            "_model_module": "@jupyter-widgets/controls",
            "layout": "IPY_MODEL_c8554717d69d43058ccad1eb845adb3e"
          }
        },
        "8f86e537d1654a73825419b81e8e97df": {
          "model_module": "@jupyter-widgets/controls",
          "model_name": "DescriptionStyleModel",
          "model_module_version": "1.5.0",
          "state": {
            "_view_name": "StyleView",
            "_model_name": "DescriptionStyleModel",
            "description_width": "",
            "_view_module": "@jupyter-widgets/base",
            "_model_module_version": "1.5.0",
            "_view_count": null,
            "_view_module_version": "1.2.0",
            "_model_module": "@jupyter-widgets/controls"
          }
        },
        "7719a9e8084d4f8ba66f84aa837b0a32": {
          "model_module": "@jupyter-widgets/base",
          "model_name": "LayoutModel",
          "model_module_version": "1.2.0",
          "state": {
            "_view_name": "LayoutView",
            "grid_template_rows": null,
            "right": null,
            "justify_content": null,
            "_view_module": "@jupyter-widgets/base",
            "overflow": null,
            "_model_module_version": "1.2.0",
            "_view_count": null,
            "flex_flow": null,
            "width": null,
            "min_width": null,
            "border": null,
            "align_items": null,
            "bottom": null,
            "_model_module": "@jupyter-widgets/base",
            "top": null,
            "grid_column": null,
            "overflow_y": null,
            "overflow_x": null,
            "grid_auto_flow": null,
            "grid_area": null,
            "grid_template_columns": null,
            "flex": null,
            "_model_name": "LayoutModel",
            "justify_items": null,
            "grid_row": null,
            "max_height": null,
            "align_content": null,
            "visibility": null,
            "align_self": null,
            "height": null,
            "min_height": null,
            "padding": null,
            "grid_auto_rows": null,
            "grid_gap": null,
            "max_width": null,
            "order": null,
            "_view_module_version": "1.2.0",
            "grid_template_areas": null,
            "object_position": null,
            "object_fit": null,
            "grid_auto_columns": null,
            "margin": null,
            "display": null,
            "left": null
          }
        },
        "b5f7fbaaeaf845eb90e179bfdc83f13b": {
          "model_module": "@jupyter-widgets/controls",
          "model_name": "ProgressStyleModel",
          "model_module_version": "1.5.0",
          "state": {
            "_view_name": "StyleView",
            "_model_name": "ProgressStyleModel",
            "description_width": "",
            "_view_module": "@jupyter-widgets/base",
            "_model_module_version": "1.5.0",
            "_view_count": null,
            "_view_module_version": "1.2.0",
            "bar_color": null,
            "_model_module": "@jupyter-widgets/controls"
          }
        },
        "be00424d8eef41e7a2742aa19b271d02": {
          "model_module": "@jupyter-widgets/base",
          "model_name": "LayoutModel",
          "model_module_version": "1.2.0",
          "state": {
            "_view_name": "LayoutView",
            "grid_template_rows": null,
            "right": null,
            "justify_content": null,
            "_view_module": "@jupyter-widgets/base",
            "overflow": null,
            "_model_module_version": "1.2.0",
            "_view_count": null,
            "flex_flow": null,
            "width": null,
            "min_width": null,
            "border": null,
            "align_items": null,
            "bottom": null,
            "_model_module": "@jupyter-widgets/base",
            "top": null,
            "grid_column": null,
            "overflow_y": null,
            "overflow_x": null,
            "grid_auto_flow": null,
            "grid_area": null,
            "grid_template_columns": null,
            "flex": null,
            "_model_name": "LayoutModel",
            "justify_items": null,
            "grid_row": null,
            "max_height": null,
            "align_content": null,
            "visibility": null,
            "align_self": null,
            "height": null,
            "min_height": null,
            "padding": null,
            "grid_auto_rows": null,
            "grid_gap": null,
            "max_width": null,
            "order": null,
            "_view_module_version": "1.2.0",
            "grid_template_areas": null,
            "object_position": null,
            "object_fit": null,
            "grid_auto_columns": null,
            "margin": null,
            "display": null,
            "left": null
          }
        },
        "19615a59c29e488fbd79dedd9c3e825e": {
          "model_module": "@jupyter-widgets/controls",
          "model_name": "DescriptionStyleModel",
          "model_module_version": "1.5.0",
          "state": {
            "_view_name": "StyleView",
            "_model_name": "DescriptionStyleModel",
            "description_width": "",
            "_view_module": "@jupyter-widgets/base",
            "_model_module_version": "1.5.0",
            "_view_count": null,
            "_view_module_version": "1.2.0",
            "_model_module": "@jupyter-widgets/controls"
          }
        },
        "c8554717d69d43058ccad1eb845adb3e": {
          "model_module": "@jupyter-widgets/base",
          "model_name": "LayoutModel",
          "model_module_version": "1.2.0",
          "state": {
            "_view_name": "LayoutView",
            "grid_template_rows": null,
            "right": null,
            "justify_content": null,
            "_view_module": "@jupyter-widgets/base",
            "overflow": null,
            "_model_module_version": "1.2.0",
            "_view_count": null,
            "flex_flow": null,
            "width": null,
            "min_width": null,
            "border": null,
            "align_items": null,
            "bottom": null,
            "_model_module": "@jupyter-widgets/base",
            "top": null,
            "grid_column": null,
            "overflow_y": null,
            "overflow_x": null,
            "grid_auto_flow": null,
            "grid_area": null,
            "grid_template_columns": null,
            "flex": null,
            "_model_name": "LayoutModel",
            "justify_items": null,
            "grid_row": null,
            "max_height": null,
            "align_content": null,
            "visibility": null,
            "align_self": null,
            "height": null,
            "min_height": null,
            "padding": null,
            "grid_auto_rows": null,
            "grid_gap": null,
            "max_width": null,
            "order": null,
            "_view_module_version": "1.2.0",
            "grid_template_areas": null,
            "object_position": null,
            "object_fit": null,
            "grid_auto_columns": null,
            "margin": null,
            "display": null,
            "left": null
          }
        }
      }
    }
  },
  "cells": [
    {
      "cell_type": "markdown",
      "metadata": {
        "id": "W5gTl7VXJiwo"
      },
      "source": [
        "**Human Language Technologies Project**"
      ]
    },
    {
      "cell_type": "markdown",
      "metadata": {
        "id": "YmyUEYbqJqPs"
      },
      "source": [
        "**Authors:** Dalla Noce Niko, Ristori Alessandro"
      ]
    },
    {
      "cell_type": "markdown",
      "metadata": {
        "id": "SwktbIvfJJ71"
      },
      "source": [
        "#HLT Project"
      ]
    },
    {
      "cell_type": "markdown",
      "metadata": {
        "id": "qsAoE5E4SUuh"
      },
      "source": [
        "This work is higly based on the tensorflow tutorial https://www.tensorflow.org/text/tutorials/transformer, our aim was to introduce BERT as an encoder in the model and try combinations with different architectures (both RNNs and transformers)."
      ]
    },
    {
      "cell_type": "markdown",
      "metadata": {
        "id": "ZYveYZaAJ4CK"
      },
      "source": [
        "##Setup"
      ]
    },
    {
      "cell_type": "markdown",
      "metadata": {
        "id": "w0xEHybmMaM3"
      },
      "source": [
        "We need to install the transformers package to use the models and tokenizers from HuggingFace."
      ]
    },
    {
      "cell_type": "code",
      "metadata": {
        "colab": {
          "base_uri": "https://localhost:8080/"
        },
        "id": "cE9UOT6MJG_7",
        "outputId": "3833a3f0-77cd-411e-8a0f-859f8ce878ce"
      },
      "source": [
        "!pip install transformers"
      ],
      "execution_count": null,
      "outputs": [
        {
          "output_type": "stream",
          "name": "stdout",
          "text": [
            "Collecting transformers\n",
            "  Downloading transformers-4.11.3-py3-none-any.whl (2.9 MB)\n",
            "\u001b[K     |████████████████████████████████| 2.9 MB 5.4 MB/s \n",
            "\u001b[?25hRequirement already satisfied: numpy>=1.17 in /usr/local/lib/python3.7/dist-packages (from transformers) (1.19.5)\n",
            "Requirement already satisfied: filelock in /usr/local/lib/python3.7/dist-packages (from transformers) (3.3.0)\n",
            "Collecting tokenizers<0.11,>=0.10.1\n",
            "  Downloading tokenizers-0.10.3-cp37-cp37m-manylinux_2_5_x86_64.manylinux1_x86_64.manylinux_2_12_x86_64.manylinux2010_x86_64.whl (3.3 MB)\n",
            "\u001b[K     |████████████████████████████████| 3.3 MB 52.1 MB/s \n",
            "\u001b[?25hCollecting huggingface-hub>=0.0.17\n",
            "  Downloading huggingface_hub-0.0.19-py3-none-any.whl (56 kB)\n",
            "\u001b[K     |████████████████████████████████| 56 kB 5.0 MB/s \n",
            "\u001b[?25hRequirement already satisfied: importlib-metadata in /usr/local/lib/python3.7/dist-packages (from transformers) (4.8.1)\n",
            "Requirement already satisfied: regex!=2019.12.17 in /usr/local/lib/python3.7/dist-packages (from transformers) (2019.12.20)\n",
            "Collecting sacremoses\n",
            "  Downloading sacremoses-0.0.46-py3-none-any.whl (895 kB)\n",
            "\u001b[K     |████████████████████████████████| 895 kB 58.4 MB/s \n",
            "\u001b[?25hCollecting pyyaml>=5.1\n",
            "  Downloading PyYAML-6.0-cp37-cp37m-manylinux_2_5_x86_64.manylinux1_x86_64.manylinux_2_12_x86_64.manylinux2010_x86_64.whl (596 kB)\n",
            "\u001b[K     |████████████████████████████████| 596 kB 62.3 MB/s \n",
            "\u001b[?25hRequirement already satisfied: requests in /usr/local/lib/python3.7/dist-packages (from transformers) (2.23.0)\n",
            "Requirement already satisfied: packaging>=20.0 in /usr/local/lib/python3.7/dist-packages (from transformers) (21.0)\n",
            "Requirement already satisfied: tqdm>=4.27 in /usr/local/lib/python3.7/dist-packages (from transformers) (4.62.3)\n",
            "Requirement already satisfied: typing-extensions in /usr/local/lib/python3.7/dist-packages (from huggingface-hub>=0.0.17->transformers) (3.7.4.3)\n",
            "Requirement already satisfied: pyparsing>=2.0.2 in /usr/local/lib/python3.7/dist-packages (from packaging>=20.0->transformers) (2.4.7)\n",
            "Requirement already satisfied: zipp>=0.5 in /usr/local/lib/python3.7/dist-packages (from importlib-metadata->transformers) (3.6.0)\n",
            "Requirement already satisfied: certifi>=2017.4.17 in /usr/local/lib/python3.7/dist-packages (from requests->transformers) (2021.5.30)\n",
            "Requirement already satisfied: urllib3!=1.25.0,!=1.25.1,<1.26,>=1.21.1 in /usr/local/lib/python3.7/dist-packages (from requests->transformers) (1.24.3)\n",
            "Requirement already satisfied: chardet<4,>=3.0.2 in /usr/local/lib/python3.7/dist-packages (from requests->transformers) (3.0.4)\n",
            "Requirement already satisfied: idna<3,>=2.5 in /usr/local/lib/python3.7/dist-packages (from requests->transformers) (2.10)\n",
            "Requirement already satisfied: click in /usr/local/lib/python3.7/dist-packages (from sacremoses->transformers) (7.1.2)\n",
            "Requirement already satisfied: six in /usr/local/lib/python3.7/dist-packages (from sacremoses->transformers) (1.15.0)\n",
            "Requirement already satisfied: joblib in /usr/local/lib/python3.7/dist-packages (from sacremoses->transformers) (1.0.1)\n",
            "Installing collected packages: pyyaml, tokenizers, sacremoses, huggingface-hub, transformers\n",
            "  Attempting uninstall: pyyaml\n",
            "    Found existing installation: PyYAML 3.13\n",
            "    Uninstalling PyYAML-3.13:\n",
            "      Successfully uninstalled PyYAML-3.13\n",
            "Successfully installed huggingface-hub-0.0.19 pyyaml-6.0 sacremoses-0.0.46 tokenizers-0.10.3 transformers-4.11.3\n"
          ]
        }
      ]
    },
    {
      "cell_type": "markdown",
      "metadata": {
        "id": "LG8LIQXIKSc4"
      },
      "source": [
        "Import the libraries needed for the project to work."
      ]
    },
    {
      "cell_type": "code",
      "metadata": {
        "id": "fTS92bWiKIQx"
      },
      "source": [
        "import logging\n",
        "import time\n",
        "import numpy as np\n",
        "import matplotlib.pyplot as plt\n",
        "import tensorflow as tf"
      ],
      "execution_count": null,
      "outputs": []
    },
    {
      "cell_type": "markdown",
      "metadata": {
        "id": "FOBsbNdFMrNh"
      },
      "source": [
        "The model training is going to run on TPUs since they are the optimized for working with tensors, to do so we need colab to assign us as much TPUs as possible."
      ]
    },
    {
      "cell_type": "code",
      "metadata": {
        "colab": {
          "base_uri": "https://localhost:8080/"
        },
        "id": "wWGEpMKhKiko",
        "outputId": "351aad77-9196-4625-b26f-921b3d74250f"
      },
      "source": [
        "resolver = tf.distribute.cluster_resolver.TPUClusterResolver(tpu='')\n",
        "tf.config.experimental_connect_to_cluster(resolver)\n",
        "tf.tpu.experimental.initialize_tpu_system(resolver)\n",
        "strategy = tf.distribute.TPUStrategy(resolver)"
      ],
      "execution_count": null,
      "outputs": [
        {
          "output_type": "stream",
          "name": "stdout",
          "text": [
            "INFO:tensorflow:Clearing out eager caches\n"
          ]
        },
        {
          "output_type": "stream",
          "name": "stderr",
          "text": [
            "INFO:tensorflow:Clearing out eager caches\n"
          ]
        },
        {
          "output_type": "stream",
          "name": "stdout",
          "text": [
            "INFO:tensorflow:Initializing the TPU system: grpc://10.106.253.242:8470\n"
          ]
        },
        {
          "output_type": "stream",
          "name": "stderr",
          "text": [
            "INFO:tensorflow:Initializing the TPU system: grpc://10.106.253.242:8470\n"
          ]
        },
        {
          "output_type": "stream",
          "name": "stdout",
          "text": [
            "INFO:tensorflow:Finished initializing TPU system.\n"
          ]
        },
        {
          "output_type": "stream",
          "name": "stderr",
          "text": [
            "INFO:tensorflow:Finished initializing TPU system.\n"
          ]
        },
        {
          "output_type": "stream",
          "name": "stdout",
          "text": [
            "INFO:tensorflow:Found TPU system:\n"
          ]
        },
        {
          "output_type": "stream",
          "name": "stderr",
          "text": [
            "INFO:tensorflow:Found TPU system:\n"
          ]
        },
        {
          "output_type": "stream",
          "name": "stdout",
          "text": [
            "INFO:tensorflow:*** Num TPU Cores: 8\n"
          ]
        },
        {
          "output_type": "stream",
          "name": "stderr",
          "text": [
            "INFO:tensorflow:*** Num TPU Cores: 8\n"
          ]
        },
        {
          "output_type": "stream",
          "name": "stdout",
          "text": [
            "INFO:tensorflow:*** Num TPU Workers: 1\n"
          ]
        },
        {
          "output_type": "stream",
          "name": "stderr",
          "text": [
            "INFO:tensorflow:*** Num TPU Workers: 1\n"
          ]
        },
        {
          "output_type": "stream",
          "name": "stdout",
          "text": [
            "INFO:tensorflow:*** Num TPU Cores Per Worker: 8\n"
          ]
        },
        {
          "output_type": "stream",
          "name": "stderr",
          "text": [
            "INFO:tensorflow:*** Num TPU Cores Per Worker: 8\n"
          ]
        },
        {
          "output_type": "stream",
          "name": "stdout",
          "text": [
            "INFO:tensorflow:*** Available Device: _DeviceAttributes(/job:localhost/replica:0/task:0/device:CPU:0, CPU, 0, 0)\n"
          ]
        },
        {
          "output_type": "stream",
          "name": "stderr",
          "text": [
            "INFO:tensorflow:*** Available Device: _DeviceAttributes(/job:localhost/replica:0/task:0/device:CPU:0, CPU, 0, 0)\n"
          ]
        },
        {
          "output_type": "stream",
          "name": "stdout",
          "text": [
            "INFO:tensorflow:*** Available Device: _DeviceAttributes(/job:worker/replica:0/task:0/device:CPU:0, CPU, 0, 0)\n"
          ]
        },
        {
          "output_type": "stream",
          "name": "stderr",
          "text": [
            "INFO:tensorflow:*** Available Device: _DeviceAttributes(/job:worker/replica:0/task:0/device:CPU:0, CPU, 0, 0)\n"
          ]
        },
        {
          "output_type": "stream",
          "name": "stdout",
          "text": [
            "INFO:tensorflow:*** Available Device: _DeviceAttributes(/job:worker/replica:0/task:0/device:TPU:0, TPU, 0, 0)\n"
          ]
        },
        {
          "output_type": "stream",
          "name": "stderr",
          "text": [
            "INFO:tensorflow:*** Available Device: _DeviceAttributes(/job:worker/replica:0/task:0/device:TPU:0, TPU, 0, 0)\n"
          ]
        },
        {
          "output_type": "stream",
          "name": "stdout",
          "text": [
            "INFO:tensorflow:*** Available Device: _DeviceAttributes(/job:worker/replica:0/task:0/device:TPU:1, TPU, 0, 0)\n"
          ]
        },
        {
          "output_type": "stream",
          "name": "stderr",
          "text": [
            "INFO:tensorflow:*** Available Device: _DeviceAttributes(/job:worker/replica:0/task:0/device:TPU:1, TPU, 0, 0)\n"
          ]
        },
        {
          "output_type": "stream",
          "name": "stdout",
          "text": [
            "INFO:tensorflow:*** Available Device: _DeviceAttributes(/job:worker/replica:0/task:0/device:TPU:2, TPU, 0, 0)\n"
          ]
        },
        {
          "output_type": "stream",
          "name": "stderr",
          "text": [
            "INFO:tensorflow:*** Available Device: _DeviceAttributes(/job:worker/replica:0/task:0/device:TPU:2, TPU, 0, 0)\n"
          ]
        },
        {
          "output_type": "stream",
          "name": "stdout",
          "text": [
            "INFO:tensorflow:*** Available Device: _DeviceAttributes(/job:worker/replica:0/task:0/device:TPU:3, TPU, 0, 0)\n"
          ]
        },
        {
          "output_type": "stream",
          "name": "stderr",
          "text": [
            "INFO:tensorflow:*** Available Device: _DeviceAttributes(/job:worker/replica:0/task:0/device:TPU:3, TPU, 0, 0)\n"
          ]
        },
        {
          "output_type": "stream",
          "name": "stdout",
          "text": [
            "INFO:tensorflow:*** Available Device: _DeviceAttributes(/job:worker/replica:0/task:0/device:TPU:4, TPU, 0, 0)\n"
          ]
        },
        {
          "output_type": "stream",
          "name": "stderr",
          "text": [
            "INFO:tensorflow:*** Available Device: _DeviceAttributes(/job:worker/replica:0/task:0/device:TPU:4, TPU, 0, 0)\n"
          ]
        },
        {
          "output_type": "stream",
          "name": "stdout",
          "text": [
            "INFO:tensorflow:*** Available Device: _DeviceAttributes(/job:worker/replica:0/task:0/device:TPU:5, TPU, 0, 0)\n"
          ]
        },
        {
          "output_type": "stream",
          "name": "stderr",
          "text": [
            "INFO:tensorflow:*** Available Device: _DeviceAttributes(/job:worker/replica:0/task:0/device:TPU:5, TPU, 0, 0)\n"
          ]
        },
        {
          "output_type": "stream",
          "name": "stdout",
          "text": [
            "INFO:tensorflow:*** Available Device: _DeviceAttributes(/job:worker/replica:0/task:0/device:TPU:6, TPU, 0, 0)\n"
          ]
        },
        {
          "output_type": "stream",
          "name": "stderr",
          "text": [
            "INFO:tensorflow:*** Available Device: _DeviceAttributes(/job:worker/replica:0/task:0/device:TPU:6, TPU, 0, 0)\n"
          ]
        },
        {
          "output_type": "stream",
          "name": "stdout",
          "text": [
            "INFO:tensorflow:*** Available Device: _DeviceAttributes(/job:worker/replica:0/task:0/device:TPU:7, TPU, 0, 0)\n"
          ]
        },
        {
          "output_type": "stream",
          "name": "stderr",
          "text": [
            "INFO:tensorflow:*** Available Device: _DeviceAttributes(/job:worker/replica:0/task:0/device:TPU:7, TPU, 0, 0)\n"
          ]
        },
        {
          "output_type": "stream",
          "name": "stdout",
          "text": [
            "INFO:tensorflow:*** Available Device: _DeviceAttributes(/job:worker/replica:0/task:0/device:TPU_SYSTEM:0, TPU_SYSTEM, 0, 0)\n"
          ]
        },
        {
          "output_type": "stream",
          "name": "stderr",
          "text": [
            "INFO:tensorflow:*** Available Device: _DeviceAttributes(/job:worker/replica:0/task:0/device:TPU_SYSTEM:0, TPU_SYSTEM, 0, 0)\n"
          ]
        },
        {
          "output_type": "stream",
          "name": "stdout",
          "text": [
            "INFO:tensorflow:*** Available Device: _DeviceAttributes(/job:worker/replica:0/task:0/device:XLA_CPU:0, XLA_CPU, 0, 0)\n"
          ]
        },
        {
          "output_type": "stream",
          "name": "stderr",
          "text": [
            "INFO:tensorflow:*** Available Device: _DeviceAttributes(/job:worker/replica:0/task:0/device:XLA_CPU:0, XLA_CPU, 0, 0)\n"
          ]
        }
      ]
    },
    {
      "cell_type": "code",
      "metadata": {
        "id": "sSN8UPU5LJ2m"
      },
      "source": [
        "logging.getLogger('tensorflow').setLevel(logging.ERROR)  # suppress warnings"
      ],
      "execution_count": null,
      "outputs": []
    },
    {
      "cell_type": "markdown",
      "metadata": {
        "id": "orp8P-ImLWro"
      },
      "source": [
        "##Preprocess the dataset"
      ]
    },
    {
      "cell_type": "markdown",
      "metadata": {
        "id": "XC2VjPj2LzhY"
      },
      "source": [
        "Let's define the method to preprocess the anki dataset."
      ]
    },
    {
      "cell_type": "code",
      "metadata": {
        "id": "tfG1lSnbLZyl"
      },
      "source": [
        "def create_dataset_anki(name: str, preprocessed:bool) -> (list, list):\n",
        "    with open(name, encoding=\"UTF-8\") as datafile:\n",
        "        src_set = list()\n",
        "        dst_set = list()\n",
        "        for sentence in datafile:\n",
        "            sentence = sentence.split(\"\\t\")\n",
        "            src_set.append(sentence[0])\n",
        "            if preprocessed:\n",
        "                dst_set.append(sentence[1].split(\"\\n\")[0])\n",
        "            else:\n",
        "                dst_set.append(sentence[1])\n",
        "\n",
        "    return src_set, dst_set"
      ],
      "execution_count": null,
      "outputs": []
    },
    {
      "cell_type": "markdown",
      "metadata": {
        "id": "HgPVmTY7L6Tf"
      },
      "source": [
        "We assume that the dataset was uploaded on colab with a zip file, we need to extract it and then we can build our lists using the previous method."
      ]
    },
    {
      "cell_type": "code",
      "metadata": {
        "colab": {
          "base_uri": "https://localhost:8080/"
        },
        "id": "gamUp8XiLrwB",
        "outputId": "a517992f-55e8-4928-cece-20525008c11d"
      },
      "source": [
        "import zipfile\n",
        "with zipfile.ZipFile(\"dataset_anki_it.zip\", 'r') as zip_ref:\n",
        "    zip_ref.extractall(\"\")\n",
        "\n",
        "en_set, it_set = create_dataset_anki(\"ita_preprocessed.txt\", True)\n",
        "print(\"Il corpus ha dimensione: {0}\".format(len(en_set)))"
      ],
      "execution_count": null,
      "outputs": [
        {
          "output_type": "stream",
          "name": "stdout",
          "text": [
            "Il corpus ha dimensione: 352040\n"
          ]
        }
      ]
    },
    {
      "cell_type": "markdown",
      "metadata": {
        "id": "sGX5wZEjNSnO"
      },
      "source": [
        "##Build the dataset"
      ]
    },
    {
      "cell_type": "markdown",
      "metadata": {
        "id": "eUn2kITYNVa3"
      },
      "source": [
        "Before we create the dataset from our lists, we have to tokenize each sentence from the corpus by using the BERT tokenizer for english and the one for italian. Moreover we can get the number of tokens for both source and target."
      ]
    },
    {
      "cell_type": "code",
      "metadata": {
        "colab": {
          "base_uri": "https://localhost:8080/",
          "height": 731,
          "referenced_widgets": [
            "a2c17c83a7ab4a44a3fd6ddd26cb2aa5",
            "49870ea9bf13404f9bab451612412c24",
            "b8388210b6474cd08e2081e8a9436dcc",
            "d44237a742b54c9d982ded2a589b2c00",
            "f721418058614d1185127b4b00de38b3",
            "4ac440b64b2f462bb734142609ddd096",
            "48ba3c9c598042b7ad06d463f47a4ea4",
            "53d8065389ae4cc4890e92cce989899e",
            "a89fc44af1554d9094942c3afa71f7ac",
            "1addc1dd3cb94da9b5b08bee61d8f412",
            "2c378b8245194ece80619e9264126813",
            "49406fe447b14153979e1f84bb7dfbe6",
            "7517563cdb1c4041accf6af58c8c08bb",
            "aa27718aea96436b9b2652be50133a10",
            "aa08cde84a2744baa80f6b1ed73ad7cb",
            "58aa7b78b406490f8f9ba6d1bad23c84",
            "1ca5d22a59b24c1a97155767b60a0fc3",
            "7d0fe8b911594b9bbc5a2a420fd08818",
            "9abbcdf7b4ff47c9981860172c39c138",
            "b9d276b7d21e43f1bfd4b570864e3ad9",
            "93665fca7e3040f8b1e6419e680ce0e1",
            "4fa9d5d0499c4e5a888aaed151632b0d",
            "65552b665f174792967808947fa156f6",
            "e30ed88cdf454520833dd03fc95c7ed5",
            "288664f8f3094ed5900e1645872ae93f",
            "07209a328af44e29ab61b9894dfe35a1",
            "df1484e48e4c4c91b36dbfe0d3685737",
            "48f8ee7c087a4b32a2955019b9ae0f0d",
            "666ab35348e542868c92112bb21e054d",
            "4e48c7191d864904ad193703efa29513",
            "3d566e5a236a4897bc05ba7dce9448e7",
            "95b65784223247598d88e1b7acd65582",
            "dfef0ce6947f424b9a5b5c6c5650b033",
            "5b06c65a40d74a6790df746a08ca4574",
            "2914c17be4084fed8001ce2635ebd5a9",
            "44313987b1464311befb0f73931ed004",
            "ee94ba9d35a7469494ca9913506fd90b",
            "79e6d9addedc404cbab34a60b27efcf3",
            "38b63c54fe9246038b88c24f2b92989c",
            "77b46df6fce74e8e989c33e622a163f8",
            "5a6061a4ed454d5da5fba054f6a36279",
            "0e779e42a43641e789a97c210e4ff76e",
            "d960fc370015421c9b5bafdc4ee0a01a",
            "07e83a7973e5453c87cdcfa04d510e09",
            "3511c2e7e85640a686891c7a67a0e78a",
            "b8973e8f2cc044ba869eb4feeb1abb41",
            "122133b5ba0b4e44b54ced844b37122d",
            "4975b0d2f8004c9d9ba3b9022a66a1ab",
            "a10810ccecb84f7b9528c5876b4e11b0",
            "11d234106b2b48809a0ed6553fcaea41",
            "93754ba4f6654645b6ff9566591dfcd4",
            "6052d22a8a9c45d8b6e7c39309bef4e1",
            "d9a716fca6184cd1823e3fbd45eca3bb",
            "09bb8d6df4064dafa0700e451e77bc01",
            "c222a3395534463394a92edaac3fc7bc",
            "c2f3a9366d774eae8f7c4ee09e1bc77b",
            "c730c9a0f4024fbba99b9b26eee841ea",
            "75b811855f3c4f7f86c22f304e40479f",
            "7099f7ac0aaf40eaa9387531f85bf3aa",
            "00d0f86358c5478ca18856f8ac48a524",
            "a28775c7a40f4d71b1d390f1412cfe54",
            "00df7f58ca8b49a99ecd60e1293cf00b",
            "143784d680d3407db204a14096766c36",
            "4c617185190445a1bb935c40fda8fda3",
            "883cfbd9fa4948b0b033b821966fb124",
            "cdfcfbffe6d44d7f90235f15992f2d09",
            "785fd1d08dc848739adce5a4e74d7b40",
            "6471788dc9894831ae41323472803987",
            "2a458c016eca454db0f11312e7abba51",
            "13a3ed09cf614fb3a6dd0c0beb0e9e98",
            "46610515e6e749d78719cd554af7fd6f",
            "8f86e537d1654a73825419b81e8e97df",
            "7719a9e8084d4f8ba66f84aa837b0a32",
            "b5f7fbaaeaf845eb90e179bfdc83f13b",
            "be00424d8eef41e7a2742aa19b271d02",
            "19615a59c29e488fbd79dedd9c3e825e",
            "c8554717d69d43058ccad1eb845adb3e"
          ]
        },
        "id": "B7r7wQatNVDs",
        "outputId": "89ba06ea-6c7e-4e6f-9a45-9554bde81edd"
      },
      "source": [
        "from transformers import BertTokenizer\n",
        "\n",
        "# Create the tokenizers and get the number of tokens\n",
        "tokenizer_en = BertTokenizer.from_pretrained(\"bert-base-uncased\")\n",
        "tokenizer_it = BertTokenizer.from_pretrained(\"dbmdz/bert-base-italian-uncased\")\n",
        "v_size_en = tokenizer_en.vocab_size\n",
        "v_size_it = tokenizer_it.vocab_size"
      ],
      "execution_count": null,
      "outputs": [
        {
          "output_type": "stream",
          "name": "stderr",
          "text": [
            "DEBUG:filelock:Attempting to acquire lock 140645483097360 on /root/.cache/huggingface/transformers/45c3f7a79a80e1cf0a489e5c62b43f173c15db47864303a55d623bb3c96f72a5.d789d64ebfe299b0e416afc4a169632f903f693095b4629a7ea271d5a0cf2c99.lock\n",
            "DEBUG:filelock:Lock 140645483097360 acquired on /root/.cache/huggingface/transformers/45c3f7a79a80e1cf0a489e5c62b43f173c15db47864303a55d623bb3c96f72a5.d789d64ebfe299b0e416afc4a169632f903f693095b4629a7ea271d5a0cf2c99.lock\n"
          ]
        },
        {
          "output_type": "display_data",
          "data": {
            "application/vnd.jupyter.widget-view+json": {
              "model_id": "a2c17c83a7ab4a44a3fd6ddd26cb2aa5",
              "version_minor": 0,
              "version_major": 2
            },
            "text/plain": [
              "Downloading:   0%|          | 0.00/226k [00:00<?, ?B/s]"
            ]
          },
          "metadata": {}
        },
        {
          "output_type": "stream",
          "name": "stderr",
          "text": [
            "DEBUG:filelock:Attempting to release lock 140645483097360 on /root/.cache/huggingface/transformers/45c3f7a79a80e1cf0a489e5c62b43f173c15db47864303a55d623bb3c96f72a5.d789d64ebfe299b0e416afc4a169632f903f693095b4629a7ea271d5a0cf2c99.lock\n",
            "DEBUG:filelock:Lock 140645483097360 released on /root/.cache/huggingface/transformers/45c3f7a79a80e1cf0a489e5c62b43f173c15db47864303a55d623bb3c96f72a5.d789d64ebfe299b0e416afc4a169632f903f693095b4629a7ea271d5a0cf2c99.lock\n",
            "DEBUG:filelock:Attempting to acquire lock 140641314783952 on /root/.cache/huggingface/transformers/c1d7f0a763fb63861cc08553866f1fc3e5a6f4f07621be277452d26d71303b7e.20430bd8e10ef77a7d2977accefe796051e01bc2fc4aa146bc862997a1a15e79.lock\n",
            "DEBUG:filelock:Lock 140641314783952 acquired on /root/.cache/huggingface/transformers/c1d7f0a763fb63861cc08553866f1fc3e5a6f4f07621be277452d26d71303b7e.20430bd8e10ef77a7d2977accefe796051e01bc2fc4aa146bc862997a1a15e79.lock\n"
          ]
        },
        {
          "output_type": "display_data",
          "data": {
            "application/vnd.jupyter.widget-view+json": {
              "model_id": "49406fe447b14153979e1f84bb7dfbe6",
              "version_minor": 0,
              "version_major": 2
            },
            "text/plain": [
              "Downloading:   0%|          | 0.00/28.0 [00:00<?, ?B/s]"
            ]
          },
          "metadata": {}
        },
        {
          "output_type": "stream",
          "name": "stderr",
          "text": [
            "DEBUG:filelock:Attempting to release lock 140641314783952 on /root/.cache/huggingface/transformers/c1d7f0a763fb63861cc08553866f1fc3e5a6f4f07621be277452d26d71303b7e.20430bd8e10ef77a7d2977accefe796051e01bc2fc4aa146bc862997a1a15e79.lock\n",
            "DEBUG:filelock:Lock 140641314783952 released on /root/.cache/huggingface/transformers/c1d7f0a763fb63861cc08553866f1fc3e5a6f4f07621be277452d26d71303b7e.20430bd8e10ef77a7d2977accefe796051e01bc2fc4aa146bc862997a1a15e79.lock\n",
            "DEBUG:filelock:Attempting to acquire lock 140641314385488 on /root/.cache/huggingface/transformers/534479488c54aeaf9c3406f647aa2ec13648c06771ffe269edabebd4c412da1d.7f2721073f19841be16f41b0a70b600ca6b880c8f3df6f3535cbc704371bdfa4.lock\n",
            "DEBUG:filelock:Lock 140641314385488 acquired on /root/.cache/huggingface/transformers/534479488c54aeaf9c3406f647aa2ec13648c06771ffe269edabebd4c412da1d.7f2721073f19841be16f41b0a70b600ca6b880c8f3df6f3535cbc704371bdfa4.lock\n"
          ]
        },
        {
          "output_type": "display_data",
          "data": {
            "application/vnd.jupyter.widget-view+json": {
              "model_id": "65552b665f174792967808947fa156f6",
              "version_minor": 0,
              "version_major": 2
            },
            "text/plain": [
              "Downloading:   0%|          | 0.00/455k [00:00<?, ?B/s]"
            ]
          },
          "metadata": {}
        },
        {
          "output_type": "stream",
          "name": "stderr",
          "text": [
            "DEBUG:filelock:Attempting to release lock 140641314385488 on /root/.cache/huggingface/transformers/534479488c54aeaf9c3406f647aa2ec13648c06771ffe269edabebd4c412da1d.7f2721073f19841be16f41b0a70b600ca6b880c8f3df6f3535cbc704371bdfa4.lock\n",
            "DEBUG:filelock:Lock 140641314385488 released on /root/.cache/huggingface/transformers/534479488c54aeaf9c3406f647aa2ec13648c06771ffe269edabebd4c412da1d.7f2721073f19841be16f41b0a70b600ca6b880c8f3df6f3535cbc704371bdfa4.lock\n",
            "DEBUG:filelock:Attempting to acquire lock 140641314384528 on /root/.cache/huggingface/transformers/3c61d016573b14f7f008c02c4e51a366c67ab274726fe2910691e2a761acf43e.37395cee442ab11005bcd270f3c34464dc1704b715b5d7d52b1a461abe3b9e4e.lock\n",
            "DEBUG:filelock:Lock 140641314384528 acquired on /root/.cache/huggingface/transformers/3c61d016573b14f7f008c02c4e51a366c67ab274726fe2910691e2a761acf43e.37395cee442ab11005bcd270f3c34464dc1704b715b5d7d52b1a461abe3b9e4e.lock\n"
          ]
        },
        {
          "output_type": "display_data",
          "data": {
            "application/vnd.jupyter.widget-view+json": {
              "model_id": "5b06c65a40d74a6790df746a08ca4574",
              "version_minor": 0,
              "version_major": 2
            },
            "text/plain": [
              "Downloading:   0%|          | 0.00/570 [00:00<?, ?B/s]"
            ]
          },
          "metadata": {}
        },
        {
          "output_type": "stream",
          "name": "stderr",
          "text": [
            "DEBUG:filelock:Attempting to release lock 140641314384528 on /root/.cache/huggingface/transformers/3c61d016573b14f7f008c02c4e51a366c67ab274726fe2910691e2a761acf43e.37395cee442ab11005bcd270f3c34464dc1704b715b5d7d52b1a461abe3b9e4e.lock\n",
            "DEBUG:filelock:Lock 140641314384528 released on /root/.cache/huggingface/transformers/3c61d016573b14f7f008c02c4e51a366c67ab274726fe2910691e2a761acf43e.37395cee442ab11005bcd270f3c34464dc1704b715b5d7d52b1a461abe3b9e4e.lock\n",
            "DEBUG:filelock:Attempting to acquire lock 140641309983696 on /root/.cache/huggingface/transformers/88dbf1243e22bd24be37a2625afce2a64638364b02c8c92315e6285f32e6e683.18c5876515978ff4642213d66ad481dc01ee37e0ce40502673907ef349cce8a6.lock\n",
            "DEBUG:filelock:Lock 140641309983696 acquired on /root/.cache/huggingface/transformers/88dbf1243e22bd24be37a2625afce2a64638364b02c8c92315e6285f32e6e683.18c5876515978ff4642213d66ad481dc01ee37e0ce40502673907ef349cce8a6.lock\n"
          ]
        },
        {
          "output_type": "display_data",
          "data": {
            "application/vnd.jupyter.widget-view+json": {
              "model_id": "3511c2e7e85640a686891c7a67a0e78a",
              "version_minor": 0,
              "version_major": 2
            },
            "text/plain": [
              "Downloading:   0%|          | 0.00/237k [00:00<?, ?B/s]"
            ]
          },
          "metadata": {}
        },
        {
          "output_type": "stream",
          "name": "stderr",
          "text": [
            "DEBUG:filelock:Attempting to release lock 140641309983696 on /root/.cache/huggingface/transformers/88dbf1243e22bd24be37a2625afce2a64638364b02c8c92315e6285f32e6e683.18c5876515978ff4642213d66ad481dc01ee37e0ce40502673907ef349cce8a6.lock\n",
            "DEBUG:filelock:Lock 140641309983696 released on /root/.cache/huggingface/transformers/88dbf1243e22bd24be37a2625afce2a64638364b02c8c92315e6285f32e6e683.18c5876515978ff4642213d66ad481dc01ee37e0ce40502673907ef349cce8a6.lock\n",
            "DEBUG:filelock:Attempting to acquire lock 140641309817488 on /root/.cache/huggingface/transformers/7018ccb7467e1c5ff05ff31a169d19ce282cf211ed9f530344800c42671a5352.1234e3020e8b22f6151b88ea98a593213c8b28579933530baa777c65097a4e37.lock\n",
            "DEBUG:filelock:Lock 140641309817488 acquired on /root/.cache/huggingface/transformers/7018ccb7467e1c5ff05ff31a169d19ce282cf211ed9f530344800c42671a5352.1234e3020e8b22f6151b88ea98a593213c8b28579933530baa777c65097a4e37.lock\n"
          ]
        },
        {
          "output_type": "display_data",
          "data": {
            "application/vnd.jupyter.widget-view+json": {
              "model_id": "c2f3a9366d774eae8f7c4ee09e1bc77b",
              "version_minor": 0,
              "version_major": 2
            },
            "text/plain": [
              "Downloading:   0%|          | 0.00/59.0 [00:00<?, ?B/s]"
            ]
          },
          "metadata": {}
        },
        {
          "output_type": "stream",
          "name": "stderr",
          "text": [
            "DEBUG:filelock:Attempting to release lock 140641309817488 on /root/.cache/huggingface/transformers/7018ccb7467e1c5ff05ff31a169d19ce282cf211ed9f530344800c42671a5352.1234e3020e8b22f6151b88ea98a593213c8b28579933530baa777c65097a4e37.lock\n",
            "DEBUG:filelock:Lock 140641309817488 released on /root/.cache/huggingface/transformers/7018ccb7467e1c5ff05ff31a169d19ce282cf211ed9f530344800c42671a5352.1234e3020e8b22f6151b88ea98a593213c8b28579933530baa777c65097a4e37.lock\n",
            "DEBUG:filelock:Attempting to acquire lock 140641314525648 on /root/.cache/huggingface/transformers/64c19136528304a0aa80ab527d385022b5dfda00b76892d3577c29cf64eb7fc0.6ec690b98e01c56d26601258d2be34c3e5a76b949465ed58983cff81e5f9fa88.lock\n",
            "DEBUG:filelock:Lock 140641314525648 acquired on /root/.cache/huggingface/transformers/64c19136528304a0aa80ab527d385022b5dfda00b76892d3577c29cf64eb7fc0.6ec690b98e01c56d26601258d2be34c3e5a76b949465ed58983cff81e5f9fa88.lock\n"
          ]
        },
        {
          "output_type": "display_data",
          "data": {
            "application/vnd.jupyter.widget-view+json": {
              "model_id": "785fd1d08dc848739adce5a4e74d7b40",
              "version_minor": 0,
              "version_major": 2
            },
            "text/plain": [
              "Downloading:   0%|          | 0.00/433 [00:00<?, ?B/s]"
            ]
          },
          "metadata": {}
        },
        {
          "output_type": "stream",
          "name": "stderr",
          "text": [
            "DEBUG:filelock:Attempting to release lock 140641314525648 on /root/.cache/huggingface/transformers/64c19136528304a0aa80ab527d385022b5dfda00b76892d3577c29cf64eb7fc0.6ec690b98e01c56d26601258d2be34c3e5a76b949465ed58983cff81e5f9fa88.lock\n",
            "DEBUG:filelock:Lock 140641314525648 released on /root/.cache/huggingface/transformers/64c19136528304a0aa80ab527d385022b5dfda00b76892d3577c29cf64eb7fc0.6ec690b98e01c56d26601258d2be34c3e5a76b949465ed58983cff81e5f9fa88.lock\n"
          ]
        }
      ]
    },
    {
      "cell_type": "code",
      "metadata": {
        "id": "VdfUZv0YOL1I"
      },
      "source": [
        "# Tokenize the dataset\n",
        "tokens_en = tokenizer_en(en_set, add_special_tokens=True,\n",
        "                          truncation=True, padding=\"max_length\", return_attention_mask=True,\n",
        "                          return_tensors=\"tf\", max_length=30).data[\"input_ids\"]\n",
        "tokens_it = tokenizer_it(it_set, add_special_tokens=True,\n",
        "                          truncation=True, padding=\"max_length\", return_attention_mask=True,\n",
        "                          return_tensors=\"tf\", max_length=30).data[\"input_ids\"]"
      ],
      "execution_count": null,
      "outputs": []
    },
    {
      "cell_type": "markdown",
      "metadata": {
        "id": "r2dwetveOqdO"
      },
      "source": [
        "Then we build the tf dataset and we split it in training, validation and test sets."
      ]
    },
    {
      "cell_type": "code",
      "metadata": {
        "id": "kZDQBwuPOxEU"
      },
      "source": [
        "def split_set(dataset: tf.data.Dataset,\n",
        "              tr: float = 0.8,\n",
        "              val: float = 0.1,\n",
        "              ts: float = 0.1,\n",
        "              shuffle: bool = True) -> (tf.data.Dataset, tf.data.Dataset, tf.data.Dataset):\n",
        "    if tr+val+ts != 1:\n",
        "        raise ValueError(\"Train, validation and test partition not allowed with such splits\")\n",
        "\n",
        "    dataset_size = dataset.cardinality().numpy()\n",
        "    if shuffle:\n",
        "        dataset = dataset.shuffle(dataset_size)\n",
        "\n",
        "    tr_size = int(tr * dataset_size)\n",
        "    val_size = int(val * dataset_size)\n",
        "\n",
        "    tr_set = dataset.take(tr_size)\n",
        "    val_set = dataset.skip(tr_size).take(val_size)\n",
        "    ts_set = dataset.skip(tr_size).skip(val_size)\n",
        "    return tr_set, val_set, ts_set"
      ],
      "execution_count": null,
      "outputs": []
    },
    {
      "cell_type": "code",
      "metadata": {
        "colab": {
          "base_uri": "https://localhost:8080/"
        },
        "id": "Uc8054ACO3Zh",
        "outputId": "04cb98a2-fc71-4e1b-fa31-c85b7a71be71"
      },
      "source": [
        "# Build the dataset and split it in train, validation and test\n",
        "dataset = tf.data.Dataset.from_tensor_slices((tokens_en, tokens_it))  # build the tf dataset\n",
        "tr_set, val_set, ts_set = split_set(dataset, 0.8, 0.1, 0.1)  # split the tf dataset\n",
        "print(\"Dimensione training set: {0}\".format(len(tr_set)))\n",
        "print(\"Dimensione validation set: {0}\".format(len(val_set)))\n",
        "print(\"Dimensione test set: {0}\".format(len(ts_set)))"
      ],
      "execution_count": null,
      "outputs": [
        {
          "output_type": "stream",
          "name": "stdout",
          "text": [
            "Dimensione training set: 281632\n",
            "Dimensione validation set: 35204\n",
            "Dimensione test set: 35204\n"
          ]
        }
      ]
    },
    {
      "cell_type": "markdown",
      "metadata": {
        "id": "UWU92FjKO9J3"
      },
      "source": [
        "After we have built our development and test set, we need to split the first one (both training and validation) in batches."
      ]
    },
    {
      "cell_type": "code",
      "metadata": {
        "id": "pOiUgmSVPK1H"
      },
      "source": [
        "def make_batches(dataset_src_dst: tf.data.Dataset, batch_size: int):\n",
        "    return dataset_src_dst.cache().batch(batch_size).prefetch(tf.data.experimental.AUTOTUNE)"
      ],
      "execution_count": null,
      "outputs": []
    },
    {
      "cell_type": "code",
      "metadata": {
        "id": "4hkK5H8iPNqj"
      },
      "source": [
        "with strategy.scope():\n",
        "  tr_batches = make_batches(tr_set, 128)\n",
        "  val_batches = make_batches(val_set, 128)"
      ],
      "execution_count": null,
      "outputs": []
    },
    {
      "cell_type": "markdown",
      "metadata": {
        "id": "nQ9zRkqAPpDr"
      },
      "source": [
        "##Positional encoding"
      ]
    },
    {
      "cell_type": "markdown",
      "metadata": {
        "id": "Nfx4FqnxP8-H"
      },
      "source": [
        "Attention layers see their input as a set of vectors, with no sequential order. This model also doesn't contain any recurrent or convolutional layers. Because of this a \"positional encoding\" is added to give the model some information about the relative position of the tokens in the sentence.\n",
        "\n",
        "The positional encoding vector is added to the embedding vector. Embeddings represent a token in a d-dimensional space where tokens with similar meaning will be closer to each other. But the embeddings do not encode the relative position of tokens in a sentence. So after adding the positional encoding, tokens will be closer to each other based on the similarity of their meaning and their position in the sentence, in the d-dimensional space."
      ]
    },
    {
      "cell_type": "code",
      "metadata": {
        "id": "IQ-kiJzePpzt"
      },
      "source": [
        "def get_angles(pos, i, d_model):\n",
        "  angle_rates = 1 / np.power(10000, (2 * (i//2)) / np.float32(d_model))\n",
        "  return pos * angle_rates\n",
        "\n",
        "def positional_encoding(position, d_model):\n",
        "  angle_rads = get_angles(np.arange(position)[:, np.newaxis],\n",
        "                          np.arange(d_model)[np.newaxis, :],\n",
        "                          d_model)\n",
        "\n",
        "  # apply sin to even indices in the array; 2i\n",
        "  angle_rads[:, 0::2] = np.sin(angle_rads[:, 0::2])\n",
        "\n",
        "  # apply cos to odd indices in the array; 2i+1\n",
        "  angle_rads[:, 1::2] = np.cos(angle_rads[:, 1::2])\n",
        "\n",
        "  pos_encoding = angle_rads[np.newaxis, ...]\n",
        "\n",
        "  return tf.cast(pos_encoding, dtype=tf.float32)"
      ],
      "execution_count": null,
      "outputs": []
    },
    {
      "cell_type": "markdown",
      "metadata": {
        "id": "hzjwWWkWQQW0"
      },
      "source": [
        "##Masking"
      ]
    },
    {
      "cell_type": "markdown",
      "metadata": {
        "id": "5LsUdToKQXGa"
      },
      "source": [
        "Mask all the pad tokens in the batch of sequence. It ensures that the model does not treat padding as the input. The mask indicates where pad value 0 is present: it outputs a 1 at those locations, and a 0 otherwise."
      ]
    },
    {
      "cell_type": "code",
      "metadata": {
        "id": "XLNVe-9SQSo3"
      },
      "source": [
        "def create_padding_mask(seq):\n",
        "  seq = tf.cast(tf.math.equal(seq, 0), tf.float32) #cambiato tf.math.equal in tf.math.not_equal\n",
        "\n",
        "  # add extra dimensions to add the padding\n",
        "  # to the attention logits.\n",
        "  return seq[:, tf.newaxis, tf.newaxis, :]  # (batch_size, 1, 1, seq_len)"
      ],
      "execution_count": null,
      "outputs": []
    },
    {
      "cell_type": "markdown",
      "metadata": {
        "id": "pVaNZkusQaN8"
      },
      "source": [
        "The look-ahead mask is used to mask the future tokens in a sequence. In other words, the mask indicates which entries should not be used.\n",
        "\n",
        "This means that to predict the third token, only the first and second token will be used. Similarly to predict the fourth token, only the first, second and the third tokens will be used and so on."
      ]
    },
    {
      "cell_type": "code",
      "metadata": {
        "id": "bvFbrSHLQdcr"
      },
      "source": [
        "def create_look_ahead_mask(size):\n",
        "  mask = 1 - tf.linalg.band_part(tf.ones((size, size)), -1, 0)\n",
        "  return mask  # (seq_len, seq_len)"
      ],
      "execution_count": null,
      "outputs": []
    },
    {
      "cell_type": "markdown",
      "metadata": {
        "id": "7E-8waaOQ9_x"
      },
      "source": [
        "##Attention"
      ]
    },
    {
      "cell_type": "markdown",
      "metadata": {
        "id": "5lSeCXnFRLUo"
      },
      "source": [
        "###Self-attention"
      ]
    },
    {
      "cell_type": "code",
      "metadata": {
        "id": "fmLl3gU7RAX6"
      },
      "source": [
        "def scaled_dot_product_attention(q, k, v, mask):\n",
        "      \"\"\"\n",
        "    Calculate the attention weights.\n",
        "    q, k, v must have matching leading dimensions.\n",
        "    k, v must have matching penultimate dimension, i.e.: seq_len_k = seq_len_v.\n",
        "    The mask has different shapes depending on its type(padding or look ahead)\n",
        "    but it must be broadcastable for addition.\n",
        "    Args:\n",
        "      q: query shape == (..., seq_len_q, depth)\n",
        "      k: key shape == (..., seq_len_k, depth)\n",
        "      v: value shape == (..., seq_len_v, depth_v)\n",
        "      mask: Float tensor with shape broadcastable\n",
        "            to (..., seq_len_q, seq_len_k). Defaults to None.\n",
        "    Returns:\n",
        "      output, attention_weights\n",
        "    \"\"\"\n",
        "\n",
        "    matmul_qk = tf.matmul(q, k, transpose_b=True)  # (..., seq_len_q, seq_len_k)\n",
        "\n",
        "    # scale matmul_qk\n",
        "    dk = tf.cast(tf.shape(k)[-1], tf.float32)\n",
        "    scaled_attention_logits = matmul_qk / tf.math.sqrt(dk)\n",
        "\n",
        "    # add the mask to the scaled tensor.\n",
        "    if mask is not None:\n",
        "        scaled_attention_logits += (mask * -1e9)\n",
        "\n",
        "    # softmax is normalized on the last axis (seq_len_k) so that the scores\n",
        "    # add up to 1.\n",
        "    attention_weights = tf.nn.softmax(scaled_attention_logits, axis=-1)  # (..., seq_len_q, seq_len_k)\n",
        "\n",
        "    output = tf.matmul(attention_weights, v)  # (..., seq_len_q, depth_v)\n",
        "\n",
        "    return output, attention_weights"
      ],
      "execution_count": null,
      "outputs": []
    },
    {
      "cell_type": "markdown",
      "metadata": {
        "id": "ZeUIc8CARPLg"
      },
      "source": [
        "###Multi-head attention"
      ]
    },
    {
      "cell_type": "code",
      "metadata": {
        "id": "C3gKqb57RSNU"
      },
      "source": [
        "class MultiHeadAttention(tf.keras.layers.Layer):\n",
        "\n",
        "    def __init__(self, d_model, num_heads):\n",
        "        super(MultiHeadAttention, self).__init__()\n",
        "        self.num_heads = num_heads\n",
        "        self.d_model = d_model\n",
        "\n",
        "        assert d_model % self.num_heads == 0\n",
        "\n",
        "        self.depth = d_model // self.num_heads\n",
        "\n",
        "        self.wq = tf.keras.layers.Dense(d_model)\n",
        "        self.wk = tf.keras.layers.Dense(d_model)\n",
        "        self.wv = tf.keras.layers.Dense(d_model)\n",
        "\n",
        "        self.dense = tf.keras.layers.Dense(d_model)\n",
        "\n",
        "    def split_heads(self, x, batch_size):\n",
        "        \"\"\"Split the last dimension into (num_heads, depth).\n",
        "        Transpose the result such that the shape is (batch_size, num_heads, seq_len, depth)\n",
        "        \"\"\"\n",
        "        x = tf.reshape(x, (batch_size, -1, self.num_heads, self.depth))\n",
        "        return tf.transpose(x, perm=[0, 2, 1, 3])\n",
        "\n",
        "    def call(self, v, k=None, q=None, mask=None):\n",
        "        batch_size = tf.shape(q)[0]\n",
        "\n",
        "        q = self.wq(q)  # (batch_size, seq_len, d_model)\n",
        "        k = self.wk(k)  # (batch_size, seq_len, d_model)\n",
        "        v = self.wv(v)  # (batch_size, seq_len, d_model)\n",
        "\n",
        "        q = self.split_heads(q, batch_size)  # (batch_size, num_heads, seq_len_q, depth)\n",
        "        k = self.split_heads(k, batch_size)  # (batch_size, num_heads, seq_len_k, depth)\n",
        "        v = self.split_heads(v, batch_size)  # (batch_size, num_heads, seq_len_v, depth)\n",
        "\n",
        "        scaled_attention, attention_weights = scaled_dot_product_attention(\n",
        "            q, k, v, mask)\n",
        "\n",
        "        scaled_attention = tf.transpose(\n",
        "            scaled_attention, perm=[0, 2, 1, 3])  # (batch_size, seq_len_q, num_heads, depth)\n",
        "\n",
        "        concat_attention = tf.reshape(scaled_attention,\n",
        "                                      (batch_size, -1, self.d_model))  # (batch_size, seq_len_q, d_model)\n",
        "\n",
        "        output = self.dense(concat_attention)  # (batch_size, seq_len_q, d_model)\n",
        "\n",
        "        return output, attention_weights"
      ],
      "execution_count": null,
      "outputs": []
    },
    {
      "cell_type": "markdown",
      "metadata": {
        "id": "YX3K1uHFRyW9"
      },
      "source": [
        "##Encoder and decoder"
      ]
    },
    {
      "cell_type": "markdown",
      "metadata": {
        "id": "PQWBUtfjkPMl"
      },
      "source": [
        "As we know from the HLT course, NMT models are based on the encoder-decoder paradigm, therefore we have to build both. We based the architecture of those layers from the paper \"Attention is all you need\" from Vaswani et al."
      ]
    },
    {
      "cell_type": "markdown",
      "metadata": {
        "id": "jZdCgcJpR11c"
      },
      "source": [
        "###Encoder"
      ]
    },
    {
      "cell_type": "markdown",
      "metadata": {
        "id": "43KG2XY8kiOT"
      },
      "source": [
        "The single layer of the encoder transformer."
      ]
    },
    {
      "cell_type": "code",
      "metadata": {
        "id": "OWOzO7bDR8dU"
      },
      "source": [
        "class EncoderLayer(tf.keras.layers.Layer):\n",
        "\n",
        "    def __init__(self,\n",
        "                 layers_size: int,\n",
        "                 num_heads: int,\n",
        "                 dff: int,\n",
        "                 dropout: float = 0.1) -> None:\n",
        "        super(EncoderLayer, self).__init__()\n",
        "\n",
        "        self.mha = MultiHeadAttention(layers_size, num_heads)\n",
        "\n",
        "        self.ffn = tf.keras.Sequential([\n",
        "              tf.keras.layers.Dense(dff, activation='relu'),  # (batch_size, seq_len, dff)\n",
        "              tf.keras.layers.Dense(layers_size)  # (batch_size, seq_len, d_model)\n",
        "            ])\n",
        "\n",
        "        self.layernorm1 = tf.keras.layers.LayerNormalization(epsilon=1e-6)\n",
        "        self.layernorm2 = tf.keras.layers.LayerNormalization(epsilon=1e-6)\n",
        "\n",
        "        self.dropout1 = tf.keras.layers.Dropout(dropout)\n",
        "        self.dropout2 = tf.keras.layers.Dropout(dropout)\n",
        "\n",
        "    def call(self, dst_tokens: tf.Tensor, training: bool, mask: tf.Tensor) -> tf.Tensor:\n",
        "        attn_output, _ = self.mha.call(dst_tokens, dst_tokens,\n",
        "                                       dst_tokens, mask)  # (batch_size, input_seq_len, layers_size)\n",
        "        attn_output = self.dropout1(attn_output, training=training)\n",
        "        out1 = self.layernorm1(dst_tokens + attn_output)  # (batch_size, input_seq_len, layers_size)\n",
        "\n",
        "        ffn_output = self.ffn(out1)  # (batch_size, input_seq_len, layers_size)\n",
        "        ffn_output = self.dropout2(ffn_output, training=training)\n",
        "        out2 = self.layernorm2(out1 + ffn_output)  # (batch_size, input_seq_len, layers_size)\n",
        "        return out2"
      ],
      "execution_count": null,
      "outputs": []
    },
    {
      "cell_type": "code",
      "metadata": {
        "id": "dVU-JlJ6SB9x"
      },
      "source": [
        "class EncoderTransformer(tf.keras.layers.Layer):\n",
        "\n",
        "    def __init__(self, num_layers: int,\n",
        "                 layers_size: int,\n",
        "                 num_heads: int,\n",
        "                 dff: int,\n",
        "                 src_vocab_size: int,\n",
        "                 maximum_position_encoding: int,\n",
        "                 dropout: float = 0.1) -> None:\n",
        "        super(EncoderTransformer, self).__init__()\n",
        "\n",
        "        self.layers_size = layers_size\n",
        "        self.num_layers = num_layers\n",
        "\n",
        "        self.embedding = tf.keras.layers.Embedding(src_vocab_size, layers_size)\n",
        "        self.pos_encoding = positional_encoding(maximum_position_encoding, self.layers_size)\n",
        "\n",
        "        self.enc_layers = [EncoderLayer(layers_size, num_heads, dff, dropout) for _ in range(num_layers)]\n",
        "\n",
        "        self.dropout = tf.keras.layers.Dropout(dropout)\n",
        "\n",
        "    def call(self, src_tokens: tf.Tensor, training: bool, mask: tf.Tensor) -> tf.Tensor:\n",
        "        seq_len = tf.shape(src_tokens)[1]\n",
        "\n",
        "        # adding embedding and position encoding.\n",
        "        x = self.embedding(src_tokens)  # (batch_size, input_seq_len, layers_size)\n",
        "        x *= tf.math.sqrt(tf.cast(self.layers_size, tf.float32))\n",
        "        x += self.pos_encoding[:, :seq_len, :]\n",
        "\n",
        "        x = self.dropout(x, training=training)\n",
        "\n",
        "        for i in range(self.num_layers):\n",
        "            x = self.enc_layers[i].call(x, training, mask)\n",
        "\n",
        "        return x  # (batch_size, input_seq_len, layers_size)"
      ],
      "execution_count": null,
      "outputs": []
    },
    {
      "cell_type": "markdown",
      "metadata": {
        "id": "Xk5x1zELSFyl"
      },
      "source": [
        "###Decoder"
      ]
    },
    {
      "cell_type": "markdown",
      "metadata": {
        "id": "4WwlG430kpb7"
      },
      "source": [
        "The single layer of the decoder transformer."
      ]
    },
    {
      "cell_type": "code",
      "metadata": {
        "id": "YVmDmBHsSLHo"
      },
      "source": [
        "class DecoderLayer(tf.keras.layers.Layer):\n",
        "    def __init__(self,\n",
        "                 layers_size: int,\n",
        "                 num_heads: int,\n",
        "                 dff: int,\n",
        "                 dropout=0.1) -> None:\n",
        "        super(DecoderLayer, self).__init__()\n",
        "\n",
        "        self.mha1 = MultiHeadAttention(layers_size, num_heads)\n",
        "        self.mha2 = MultiHeadAttention(layers_size, num_heads)\n",
        "\n",
        "        self.ffn = tf.keras.Sequential([\n",
        "              tf.keras.layers.Dense(dff, activation='relu'),  # (batch_size, seq_len, dff)\n",
        "              tf.keras.layers.Dense(layers_size)  # (batch_size, seq_len, d_model)\n",
        "            ])\n",
        "\n",
        "        self.layernorm1 = tf.keras.layers.LayerNormalization(epsilon=1e-6)\n",
        "        self.layernorm2 = tf.keras.layers.LayerNormalization(epsilon=1e-6)\n",
        "        self.layernorm3 = tf.keras.layers.LayerNormalization(epsilon=1e-6)\n",
        "\n",
        "        self.dropout1 = tf.keras.layers.Dropout(dropout)\n",
        "        self.dropout2 = tf.keras.layers.Dropout(dropout)\n",
        "        self.dropout3 = tf.keras.layers.Dropout(dropout)\n",
        "\n",
        "    def call(self,\n",
        "             dst_tokens: tf.Tensor,\n",
        "             enc_output: tf.Tensor,\n",
        "             training: bool,\n",
        "             look_ahead_mask: tf.Tensor,\n",
        "             padding_mask: tf.Tensor):\n",
        "        # enc_output.shape == (batch_size, input_seq_len, layers_size)\n",
        "\n",
        "        attn1, attn_weights_block1 = self.mha1(dst_tokens, dst_tokens, dst_tokens,\n",
        "                                               look_ahead_mask)  # (batch_size, target_seq_len, layers_size)\n",
        "        attn1 = self.dropout1(attn1, training=training)\n",
        "        out1 = self.layernorm1(attn1 + dst_tokens)\n",
        "\n",
        "        attn2, attn_weights_block2 = self.mha2(enc_output, enc_output,\n",
        "                                               out1, padding_mask)  # (batch_size, target_seq_len, layers_size)\n",
        "        attn2 = self.dropout2(attn2, training=training)\n",
        "        out2 = self.layernorm2(attn2 + out1)  # (batch_size, target_seq_len, layers_size)\n",
        "\n",
        "        ffn_output = self.ffn(out2)  # (batch_size, target_seq_len, d_model)\n",
        "        ffn_output = self.dropout3(ffn_output, training=training)\n",
        "        out3 = self.layernorm3(ffn_output + out2)  # (batch_size, target_seq_len, layers_size)\n",
        "\n",
        "        return out3, attn_weights_block1, attn_weights_block2"
      ],
      "execution_count": null,
      "outputs": []
    },
    {
      "cell_type": "code",
      "metadata": {
        "id": "uFQJbb3nSwhV"
      },
      "source": [
        "class DecoderTransformer(tf.keras.layers.Layer):\n",
        "\n",
        "    def __init__(self,\n",
        "                 num_layers: int,\n",
        "                 layers_size: int,\n",
        "                 num_heads: int,\n",
        "                 dff: int,\n",
        "                 target_vocab_size: int,\n",
        "                 maximum_position_encoding: int, dropout=0.1) -> None:\n",
        "        super(DecoderTransformer, self).__init__()\n",
        "\n",
        "        self.layers_size = layers_size\n",
        "        self.num_layers = num_layers\n",
        "\n",
        "        self.embedding = tf.keras.layers.Embedding(target_vocab_size, layers_size)\n",
        "        self.pos_encoding = positional_encoding(maximum_position_encoding, layers_size)\n",
        "\n",
        "        self.dec_layers = [DecoderLayer(layers_size, num_heads, dff, dropout) for _ in range(num_layers)]\n",
        "        self.dropout = tf.keras.layers.Dropout(dropout)\n",
        "\n",
        "    def call(self,\n",
        "             dst_tokens: tf.Tensor,\n",
        "             enc_output: tf.Tensor,\n",
        "             training: bool,\n",
        "             look_ahead_mask: tf.Tensor,\n",
        "             padding_mask: tf.Tensor) -> (tf.Tensor, tf.Tensor):\n",
        "        seq_len = tf.shape(dst_tokens)[1]\n",
        "        attention_weights = {}\n",
        "\n",
        "        x = self.embedding(dst_tokens)  # (batch_size, target_seq_len, layers_size)\n",
        "        x *= tf.math.sqrt(tf.cast(self.layers_size, tf.float32))\n",
        "        x += self.pos_encoding[:, :seq_len, :]\n",
        "\n",
        "        x = self.dropout(x, training=training)\n",
        "\n",
        "        for i in range(self.num_layers):\n",
        "            x, block1, block2 = self.dec_layers[i](x, enc_output, training, look_ahead_mask, padding_mask)\n",
        "\n",
        "            attention_weights[f'decoder_layer{i + 1}_block1'] = block1\n",
        "            attention_weights[f'decoder_layer{i + 1}_block2'] = block2\n",
        "\n",
        "        return x, attention_weights"
      ],
      "execution_count": null,
      "outputs": []
    },
    {
      "cell_type": "markdown",
      "metadata": {
        "id": "_nOatGOPS12t"
      },
      "source": [
        "##Build the model"
      ]
    },
    {
      "cell_type": "markdown",
      "metadata": {
        "id": "zz517yyZS7cO"
      },
      "source": [
        "The model consists of the encoder, decoder and a final linear layer. The output of the decoder is the input to the linear layer and its output is returned."
      ]
    },
    {
      "cell_type": "code",
      "metadata": {
        "id": "vMc72ufbS_bh"
      },
      "source": [
        "class TransformerNMT(tf.keras.Model):\n",
        "\n",
        "    def __init__(self,\n",
        "                 encoder: tf.keras.layers.Layer,\n",
        "                 decoder: tf.keras.layers.Layer,\n",
        "                 dst_v_size: int,\n",
        "                 lan_src: str = \"english\",\n",
        "                 lan_dst: str = \"italian\") -> None:\n",
        "        super(TransformerNMT, self).__init__()\n",
        "        self.encoder = encoder\n",
        "        self.decoder = decoder\n",
        "        self.lan_src = lan_src\n",
        "        self.lan_dst = lan_dst\n",
        "        self.final_layer = tf.keras.layers.Dense(dst_v_size)\n",
        "\n",
        "    @staticmethod\n",
        "    def __create_masks(src: tf.Tensor, dst: tf.Tensor) -> (tf.Tensor, tf.Tensor):\n",
        "        # Encoder padding mask\n",
        "        enc_padding_mask = create_padding_mask(src)\n",
        "\n",
        "        # Used in the 2nd attention block in the decoder.\n",
        "        # This padding mask is used to mask the encoder outputs.\n",
        "        dec_padding_mask = create_padding_mask(src)\n",
        "\n",
        "        # Used in the 1st attention block in the decoder.\n",
        "        # It is used to pad and mask future tokens in the input received by\n",
        "        # the decoder.\n",
        "        look_ahead_mask = create_look_ahead_mask(tf.shape(dst)[1])\n",
        "        dec_target_padding_mask = create_padding_mask(dst)\n",
        "        look_ahead_mask = tf.maximum(dec_target_padding_mask, look_ahead_mask)\n",
        "\n",
        "        return enc_padding_mask, look_ahead_mask, dec_padding_mask\n",
        "\n",
        "    def call(self, inputs: list, training: bool) -> (tf.Tensor, tf.Tensor):\n",
        "        # Keras models prefer if you pass all your inputs in the first argument\n",
        "        src, dst = inputs\n",
        "\n",
        "        enc_padding_mask, look_ahead_mask, dec_padding_mask = self.__create_masks(src, dst)\n",
        "\n",
        "        enc_output = self.encoder(src, training, enc_padding_mask)  # (batch_size, inp_seq_len, layers_size)\n",
        "\n",
        "        dec_output, attention_weights = self.decoder(dst, enc_output, training, look_ahead_mask, dec_padding_mask)\n",
        "\n",
        "        final_output = self.final_layer(dec_output)  # (batch_size, tar_seq_len, target_vocab_size)\n",
        "\n",
        "        return final_output, attention_weights"
      ],
      "execution_count": null,
      "outputs": []
    },
    {
      "cell_type": "markdown",
      "metadata": {
        "id": "btGbS2DvTRzS"
      },
      "source": [
        "##Optmizer"
      ]
    },
    {
      "cell_type": "code",
      "metadata": {
        "id": "busHjsItTWA5"
      },
      "source": [
        "class CustomSchedule(tf.keras.optimizers.schedules.LearningRateSchedule):\n",
        "    def get_config(self):\n",
        "        pass\n",
        "\n",
        "    def __init__(self, layers_size, warmup_steps=4000):\n",
        "        super(CustomSchedule, self).__init__()\n",
        "\n",
        "        self.layers_size = layers_size\n",
        "        self.layers_size = tf.cast(self.layers_size, tf.float32)\n",
        "\n",
        "        self.warmup_steps = warmup_steps\n",
        "\n",
        "    def __call__(self, step):\n",
        "        arg1 = tf.math.rsqrt(step)\n",
        "        arg2 = step * (self.warmup_steps ** -1.5)\n",
        "        return tf.math.rsqrt(self.layers_size) * tf.math.minimum(arg1, arg2)"
      ],
      "execution_count": null,
      "outputs": []
    },
    {
      "cell_type": "markdown",
      "metadata": {
        "id": "jh6qz5N7Tf3v"
      },
      "source": [
        "##Loss and metrics"
      ]
    },
    {
      "cell_type": "code",
      "metadata": {
        "id": "_Ua0qSrATw-N"
      },
      "source": [
        "def loss_function(real, pred):\n",
        "    loss_object = tf.keras.losses.SparseCategoricalCrossentropy(from_logits=True, reduction='none')\n",
        "    mask = tf.math.logical_not(tf.math.equal(real, 0))\n",
        "    loss_ = loss_object(real, pred)\n",
        "\n",
        "    mask = tf.cast(mask, dtype=loss_.dtype)\n",
        "    loss_ *= mask\n",
        "\n",
        "    return tf.reduce_sum(loss_) / tf.reduce_sum(mask)\n",
        "\n",
        "\n",
        "def accuracy_function(real, pred):\n",
        "    accuracies = tf.equal(real, tf.argmax(pred, axis=2, output_type=tf.int32))\n",
        "\n",
        "    mask = tf.math.logical_not(tf.math.equal(real, 0))\n",
        "    accuracies = tf.math.logical_and(mask, accuracies)\n",
        "\n",
        "    accuracies = tf.cast(accuracies, dtype=tf.float32)\n",
        "    mask = tf.cast(mask, dtype=tf.float32)\n",
        "    return tf.reduce_sum(accuracies) / tf.reduce_sum(mask)"
      ],
      "execution_count": null,
      "outputs": []
    },
    {
      "cell_type": "code",
      "metadata": {
        "id": "Pl1cLbXBT3s0"
      },
      "source": [
        "with strategy.scope():\n",
        "  train_loss = tf.keras.metrics.Mean(name='train_loss')\n",
        "  train_accuracy = tf.keras.metrics.Mean(name='train_accuracy')"
      ],
      "execution_count": null,
      "outputs": []
    },
    {
      "cell_type": "markdown",
      "metadata": {
        "id": "MGO3ZxwhUIL1"
      },
      "source": [
        "##Trainer"
      ]
    },
    {
      "cell_type": "code",
      "metadata": {
        "id": "yZhNk1fSUKJ9"
      },
      "source": [
        "with strategy.scope():\n",
        "    train_loss = tf.keras.metrics.Mean(name='train_loss')\n",
        "    train_accuracy = tf.keras.metrics.Mean(name='train_accuracy')\n",
        "\n",
        "\n",
        "class Trainer:\n",
        "\n",
        "    def __init__(self, transformer: TransformerNMT):\n",
        "        learning_rate = CustomSchedule(transformer.encoder.layers_size)\n",
        "        self.optimizer = tf.keras.optimizers.Adam(learning_rate, beta_1=0.9, beta_2=0.98, epsilon=1e-9)\n",
        "        self.transformer = transformer\n",
        "\n",
        "    @tf.function()\n",
        "    def __train_step(self, src: tf.Tensor, dst: tf.Tensor) -> None:\n",
        "        dst_inp = dst[:, :-1]\n",
        "        dst_real = dst[:, 1:]\n",
        "\n",
        "        def step_fn(dst_inp, dst_real):\n",
        "            with tf.GradientTape() as tape:\n",
        "                predictions, _ = self.transformer([src, dst_inp], training=True)\n",
        "                loss = loss_function(dst_real, predictions)\n",
        "\n",
        "            gradients = tape.gradient(loss, self.transformer.trainable_variables)\n",
        "            self.optimizer.apply_gradients(zip(gradients, self.transformer.trainable_variables))\n",
        "\n",
        "            train_loss(loss)\n",
        "            train_accuracy(accuracy_function(dst_real, predictions))\n",
        "\n",
        "        strategy.run(step_fn, args=(dst_inp, dst_real))\n",
        "\n",
        "    def train(self, epochs: int, tr_batches) -> None:\n",
        "        for epoch in range(epochs):\n",
        "            start = time.time()\n",
        "\n",
        "            train_loss.reset_states()\n",
        "            train_accuracy.reset_states()\n",
        "\n",
        "            for (batch, (src, dst)) in enumerate(tr_batches):\n",
        "                self.__train_step(src, dst)\n",
        "\n",
        "                if batch % 50 == 0:\n",
        "                    print(\n",
        "                        f'Epoch {epoch + 1} Batch {batch} '\n",
        "                        f'Loss {train_loss.result():.4f} Accuracy {train_accuracy.result():.4f}')\n",
        "\n",
        "            if (epoch + 1) % 5 == 0:\n",
        "                print(\"save\")\n",
        "\n",
        "            print(f'Epoch {epoch + 1} Loss {train_loss.result():.4f} Accuracy {train_accuracy.result():.4f}')\n",
        "\n",
        "            print(f'Time taken for 1 epoch: {time.time() - start:.2f} secs\\n')"
      ],
      "execution_count": null,
      "outputs": []
    },
    {
      "cell_type": "markdown",
      "metadata": {
        "id": "ccFwVc9HU70h"
      },
      "source": [
        "##Train the model"
      ]
    },
    {
      "cell_type": "code",
      "metadata": {
        "colab": {
          "base_uri": "https://localhost:8080/"
        },
        "id": "VJ3VnYtqU9KQ",
        "outputId": "70847416-0dd2-4490-c9cf-e1efa886032a"
      },
      "source": [
        "# Setup the hyperparameters\n",
        "num_layers = 6\n",
        "layers_size = 512\n",
        "dff = 2048\n",
        "num_heads = 8\n",
        "\n",
        "# Build the model\n",
        "encoder = EncoderTransformer(num_layers, layers_size, num_heads, dff, v_size_en, 30)\n",
        "decoder = DecoderTransformer(num_layers, layers_size, num_heads, dff, v_size_it, 30)\n",
        "model = TransformerNMT(encoder, decoder, v_size_it)\n",
        "\n",
        "# Build the trainer and train the model\n",
        "trainer = Trainer(model)\n",
        "trainer.train(5, tr_batches)"
      ],
      "execution_count": null,
      "outputs": [
        {
          "output_type": "stream",
          "name": "stdout",
          "text": [
            "Epoch 1 Batch 0 Loss 10.3552 Accuracy 0.0000\n",
            "Epoch 1 Batch 50 Loss 10.0559 Accuracy 0.0775\n",
            "Epoch 1 Batch 100 Loss 9.7402 Accuracy 0.1024\n",
            "Epoch 1 Batch 150 Loss 9.4180 Accuracy 0.1164\n",
            "Epoch 1 Batch 200 Loss 9.0159 Accuracy 0.1442\n",
            "Epoch 1 Batch 250 Loss 8.5870 Accuracy 0.1675\n",
            "Epoch 1 Batch 300 Loss 8.1594 Accuracy 0.1865\n",
            "Epoch 1 Batch 350 Loss 7.7742 Accuracy 0.2035\n",
            "Epoch 1 Batch 400 Loss 7.4497 Accuracy 0.2179\n",
            "Epoch 1 Batch 450 Loss 7.1682 Accuracy 0.2313\n",
            "Epoch 1 Batch 500 Loss 6.9233 Accuracy 0.2436\n",
            "Epoch 1 Batch 550 Loss 6.7078 Accuracy 0.2547\n",
            "Epoch 1 Batch 600 Loss 6.5143 Accuracy 0.2656\n",
            "Epoch 1 Batch 650 Loss 6.3384 Accuracy 0.2758\n",
            "Epoch 1 Batch 700 Loss 6.1728 Accuracy 0.2857\n",
            "Epoch 1 Batch 750 Loss 6.0193 Accuracy 0.2953\n",
            "Epoch 1 Batch 800 Loss 5.8792 Accuracy 0.3040\n",
            "Epoch 1 Batch 850 Loss 5.7484 Accuracy 0.3124\n",
            "Epoch 1 Batch 900 Loss 5.6252 Accuracy 0.3204\n",
            "Epoch 1 Batch 950 Loss 5.5116 Accuracy 0.3277\n",
            "Epoch 1 Batch 1000 Loss 5.4043 Accuracy 0.3347\n",
            "Epoch 1 Batch 1050 Loss 5.3022 Accuracy 0.3415\n",
            "Epoch 1 Batch 1100 Loss 5.2055 Accuracy 0.3480\n",
            "Epoch 1 Batch 1150 Loss 5.1146 Accuracy 0.3542\n",
            "Epoch 1 Batch 1200 Loss 5.0277 Accuracy 0.3603\n",
            "Epoch 1 Batch 1250 Loss 4.9446 Accuracy 0.3661\n",
            "Epoch 1 Batch 1300 Loss 4.8645 Accuracy 0.3718\n",
            "Epoch 1 Batch 1350 Loss 4.7885 Accuracy 0.3774\n",
            "Epoch 1 Batch 1400 Loss 4.7166 Accuracy 0.3827\n",
            "Epoch 1 Batch 1450 Loss 4.6467 Accuracy 0.3879\n",
            "Epoch 1 Batch 1500 Loss 4.5787 Accuracy 0.3930\n",
            "Epoch 1 Batch 1550 Loss 4.5146 Accuracy 0.3979\n",
            "Epoch 1 Batch 1600 Loss 4.4525 Accuracy 0.4026\n",
            "Epoch 1 Batch 1650 Loss 4.3923 Accuracy 0.4073\n",
            "Epoch 1 Batch 1700 Loss 4.3355 Accuracy 0.4118\n",
            "Epoch 1 Batch 1750 Loss 4.2786 Accuracy 0.4165\n",
            "Epoch 1 Batch 1800 Loss 4.2238 Accuracy 0.4211\n",
            "Epoch 1 Batch 1850 Loss 4.1684 Accuracy 0.4260\n",
            "Epoch 1 Batch 1900 Loss 4.1149 Accuracy 0.4307\n",
            "Epoch 1 Batch 1950 Loss 4.0633 Accuracy 0.4354\n",
            "Epoch 1 Batch 2000 Loss 4.0123 Accuracy 0.4402\n",
            "Epoch 1 Batch 2050 Loss 3.9621 Accuracy 0.4448\n",
            "Epoch 1 Batch 2100 Loss 3.9134 Accuracy 0.4495\n",
            "Epoch 1 Batch 2150 Loss 3.8662 Accuracy 0.4540\n",
            "Epoch 1 Batch 2200 Loss 3.8192 Accuracy 0.4586\n",
            "Epoch 1 Loss 3.8192 Accuracy 0.4586\n",
            "Time taken for 1 epoch: 549.58 secs\n",
            "\n",
            "Epoch 2 Batch 0 Loss 1.8549 Accuracy 0.6458\n",
            "Epoch 2 Batch 50 Loss 1.7636 Accuracy 0.6626\n",
            "Epoch 2 Batch 100 Loss 1.7373 Accuracy 0.6651\n",
            "Epoch 2 Batch 150 Loss 1.7173 Accuracy 0.6690\n",
            "Epoch 2 Batch 200 Loss 1.7046 Accuracy 0.6707\n",
            "Epoch 2 Batch 250 Loss 1.6890 Accuracy 0.6728\n",
            "Epoch 2 Batch 300 Loss 1.6709 Accuracy 0.6752\n",
            "Epoch 2 Batch 350 Loss 1.6540 Accuracy 0.6777\n",
            "Epoch 2 Batch 400 Loss 1.6415 Accuracy 0.6796\n",
            "Epoch 2 Batch 450 Loss 1.6243 Accuracy 0.6821\n",
            "Epoch 2 Batch 500 Loss 1.6073 Accuracy 0.6846\n",
            "Epoch 2 Batch 550 Loss 1.5930 Accuracy 0.6865\n",
            "Epoch 2 Batch 600 Loss 1.5810 Accuracy 0.6882\n",
            "Epoch 2 Batch 650 Loss 1.5679 Accuracy 0.6901\n",
            "Epoch 2 Batch 700 Loss 1.5537 Accuracy 0.6919\n",
            "Epoch 2 Batch 750 Loss 1.5409 Accuracy 0.6937\n",
            "Epoch 2 Batch 800 Loss 1.5301 Accuracy 0.6952\n",
            "Epoch 2 Batch 850 Loss 1.5206 Accuracy 0.6965\n",
            "Epoch 2 Batch 900 Loss 1.5096 Accuracy 0.6981\n",
            "Epoch 2 Batch 950 Loss 1.5002 Accuracy 0.6995\n",
            "Epoch 2 Batch 1000 Loss 1.4908 Accuracy 0.7008\n",
            "Epoch 2 Batch 1050 Loss 1.4818 Accuracy 0.7022\n",
            "Epoch 2 Batch 1100 Loss 1.4733 Accuracy 0.7033\n",
            "Epoch 2 Batch 1150 Loss 1.4662 Accuracy 0.7043\n",
            "Epoch 2 Batch 1200 Loss 1.4590 Accuracy 0.7053\n",
            "Epoch 2 Batch 1250 Loss 1.4514 Accuracy 0.7064\n",
            "Epoch 2 Batch 1300 Loss 1.4430 Accuracy 0.7075\n",
            "Epoch 2 Batch 1350 Loss 1.4363 Accuracy 0.7085\n",
            "Epoch 2 Batch 1400 Loss 1.4308 Accuracy 0.7093\n",
            "Epoch 2 Batch 1450 Loss 1.4241 Accuracy 0.7102\n",
            "Epoch 2 Batch 1500 Loss 1.4170 Accuracy 0.7111\n",
            "Epoch 2 Batch 1550 Loss 1.4114 Accuracy 0.7118\n",
            "Epoch 2 Batch 1600 Loss 1.4049 Accuracy 0.7126\n",
            "Epoch 2 Batch 1650 Loss 1.3986 Accuracy 0.7134\n",
            "Epoch 2 Batch 1700 Loss 1.3946 Accuracy 0.7140\n",
            "Epoch 2 Batch 1750 Loss 1.3891 Accuracy 0.7147\n",
            "Epoch 2 Batch 1800 Loss 1.3845 Accuracy 0.7154\n",
            "Epoch 2 Batch 1850 Loss 1.3790 Accuracy 0.7161\n",
            "Epoch 2 Batch 1900 Loss 1.3743 Accuracy 0.7167\n",
            "Epoch 2 Batch 1950 Loss 1.3699 Accuracy 0.7173\n",
            "Epoch 2 Batch 2000 Loss 1.3649 Accuracy 0.7180\n",
            "Epoch 2 Batch 2050 Loss 1.3594 Accuracy 0.7187\n",
            "Epoch 2 Batch 2100 Loss 1.3546 Accuracy 0.7194\n",
            "Epoch 2 Batch 2150 Loss 1.3497 Accuracy 0.7200\n",
            "Epoch 2 Batch 2200 Loss 1.3446 Accuracy 0.7207\n",
            "Epoch 2 Loss 1.3446 Accuracy 0.7207\n",
            "Time taken for 1 epoch: 419.14 secs\n",
            "\n",
            "Epoch 3 Batch 0 Loss 1.2316 Accuracy 0.7326\n",
            "Epoch 3 Batch 50 Loss 1.1238 Accuracy 0.7501\n",
            "Epoch 3 Batch 100 Loss 1.1131 Accuracy 0.7511\n",
            "Epoch 3 Batch 150 Loss 1.1093 Accuracy 0.7525\n",
            "Epoch 3 Batch 200 Loss 1.1084 Accuracy 0.7526\n",
            "Epoch 3 Batch 250 Loss 1.1042 Accuracy 0.7532\n",
            "Epoch 3 Batch 300 Loss 1.0968 Accuracy 0.7542\n",
            "Epoch 3 Batch 350 Loss 1.0914 Accuracy 0.7552\n",
            "Epoch 3 Batch 400 Loss 1.0887 Accuracy 0.7554\n",
            "Epoch 3 Batch 450 Loss 1.0836 Accuracy 0.7564\n",
            "Epoch 3 Batch 500 Loss 1.0774 Accuracy 0.7574\n",
            "Epoch 3 Batch 550 Loss 1.0737 Accuracy 0.7578\n",
            "Epoch 3 Batch 600 Loss 1.0708 Accuracy 0.7583\n",
            "Epoch 3 Batch 650 Loss 1.0664 Accuracy 0.7590\n",
            "Epoch 3 Batch 700 Loss 1.0592 Accuracy 0.7600\n",
            "Epoch 3 Batch 750 Loss 1.0545 Accuracy 0.7608\n",
            "Epoch 3 Batch 800 Loss 1.0518 Accuracy 0.7613\n",
            "Epoch 3 Batch 850 Loss 1.0488 Accuracy 0.7617\n",
            "Epoch 3 Batch 900 Loss 1.0459 Accuracy 0.7622\n",
            "Epoch 3 Batch 950 Loss 1.0429 Accuracy 0.7626\n",
            "Epoch 3 Batch 1000 Loss 1.0402 Accuracy 0.7631\n",
            "Epoch 3 Batch 1050 Loss 1.0366 Accuracy 0.7637\n",
            "Epoch 3 Batch 1100 Loss 1.0333 Accuracy 0.7643\n",
            "Epoch 3 Batch 1150 Loss 1.0310 Accuracy 0.7646\n",
            "Epoch 3 Batch 1200 Loss 1.0277 Accuracy 0.7651\n",
            "Epoch 3 Batch 1250 Loss 1.0248 Accuracy 0.7656\n",
            "Epoch 3 Batch 1300 Loss 1.0208 Accuracy 0.7662\n",
            "Epoch 3 Batch 1350 Loss 1.0176 Accuracy 0.7668\n",
            "Epoch 3 Batch 1400 Loss 1.0154 Accuracy 0.7671\n",
            "Epoch 3 Batch 1450 Loss 1.0118 Accuracy 0.7677\n",
            "Epoch 3 Batch 1500 Loss 1.0074 Accuracy 0.7683\n",
            "Epoch 3 Batch 1550 Loss 1.0044 Accuracy 0.7688\n",
            "Epoch 3 Batch 1600 Loss 1.0013 Accuracy 0.7693\n",
            "Epoch 3 Batch 1650 Loss 0.9979 Accuracy 0.7698\n",
            "Epoch 3 Batch 1700 Loss 0.9958 Accuracy 0.7701\n",
            "Epoch 3 Batch 1750 Loss 0.9924 Accuracy 0.7707\n",
            "Epoch 3 Batch 1800 Loss 0.9898 Accuracy 0.7711\n",
            "Epoch 3 Batch 1850 Loss 0.9863 Accuracy 0.7716\n",
            "Epoch 3 Batch 1900 Loss 0.9835 Accuracy 0.7720\n",
            "Epoch 3 Batch 1950 Loss 0.9812 Accuracy 0.7723\n",
            "Epoch 3 Batch 2000 Loss 0.9784 Accuracy 0.7728\n",
            "Epoch 3 Batch 2050 Loss 0.9750 Accuracy 0.7733\n",
            "Epoch 3 Batch 2100 Loss 0.9722 Accuracy 0.7738\n",
            "Epoch 3 Batch 2150 Loss 0.9697 Accuracy 0.7742\n",
            "Epoch 3 Batch 2200 Loss 0.9669 Accuracy 0.7746\n",
            "Epoch 3 Loss 0.9669 Accuracy 0.7746\n",
            "Time taken for 1 epoch: 418.85 secs\n",
            "\n",
            "Epoch 4 Batch 0 Loss 0.9049 Accuracy 0.7721\n",
            "Epoch 4 Batch 50 Loss 0.8366 Accuracy 0.7945\n",
            "Epoch 4 Batch 100 Loss 0.8332 Accuracy 0.7940\n",
            "Epoch 4 Batch 150 Loss 0.8298 Accuracy 0.7953\n",
            "Epoch 4 Batch 200 Loss 0.8342 Accuracy 0.7946\n",
            "Epoch 4 Batch 250 Loss 0.8340 Accuracy 0.7946\n",
            "Epoch 4 Batch 300 Loss 0.8308 Accuracy 0.7949\n",
            "Epoch 4 Batch 350 Loss 0.8326 Accuracy 0.7945\n",
            "Epoch 4 Batch 400 Loss 0.8319 Accuracy 0.7945\n",
            "Epoch 4 Batch 450 Loss 0.8283 Accuracy 0.7952\n",
            "Epoch 4 Batch 500 Loss 0.8249 Accuracy 0.7958\n",
            "Epoch 4 Batch 550 Loss 0.8227 Accuracy 0.7960\n",
            "Epoch 4 Batch 600 Loss 0.8212 Accuracy 0.7962\n",
            "Epoch 4 Batch 650 Loss 0.8188 Accuracy 0.7966\n",
            "Epoch 4 Batch 700 Loss 0.8153 Accuracy 0.7970\n",
            "Epoch 4 Batch 750 Loss 0.8129 Accuracy 0.7975\n",
            "Epoch 4 Batch 800 Loss 0.8120 Accuracy 0.7976\n",
            "Epoch 4 Batch 850 Loss 0.8112 Accuracy 0.7978\n",
            "Epoch 4 Batch 900 Loss 0.8094 Accuracy 0.7982\n",
            "Epoch 4 Batch 950 Loss 0.8084 Accuracy 0.7983\n",
            "Epoch 4 Batch 1000 Loss 0.8075 Accuracy 0.7985\n",
            "Epoch 4 Batch 1050 Loss 0.8058 Accuracy 0.7988\n",
            "Epoch 4 Batch 1100 Loss 0.8041 Accuracy 0.7991\n",
            "Epoch 4 Batch 1150 Loss 0.8033 Accuracy 0.7992\n",
            "Epoch 4 Batch 1200 Loss 0.8024 Accuracy 0.7993\n",
            "Epoch 4 Batch 1250 Loss 0.8010 Accuracy 0.7997\n",
            "Epoch 4 Batch 1300 Loss 0.7988 Accuracy 0.8000\n",
            "Epoch 4 Batch 1350 Loss 0.7970 Accuracy 0.8004\n",
            "Epoch 4 Batch 1400 Loss 0.7963 Accuracy 0.8005\n",
            "Epoch 4 Batch 1450 Loss 0.7944 Accuracy 0.8008\n",
            "Epoch 4 Batch 1500 Loss 0.7920 Accuracy 0.8012\n",
            "Epoch 4 Batch 1550 Loss 0.7905 Accuracy 0.8014\n",
            "Epoch 4 Batch 1600 Loss 0.7893 Accuracy 0.8015\n",
            "Epoch 4 Batch 1650 Loss 0.7878 Accuracy 0.8018\n",
            "Epoch 4 Batch 1700 Loss 0.7873 Accuracy 0.8019\n",
            "Epoch 4 Batch 1750 Loss 0.7854 Accuracy 0.8022\n",
            "Epoch 4 Batch 1800 Loss 0.7841 Accuracy 0.8024\n",
            "Epoch 4 Batch 1850 Loss 0.7822 Accuracy 0.8027\n",
            "Epoch 4 Batch 1900 Loss 0.7808 Accuracy 0.8029\n",
            "Epoch 4 Batch 1950 Loss 0.7797 Accuracy 0.8031\n",
            "Epoch 4 Batch 2000 Loss 0.7783 Accuracy 0.8034\n",
            "Epoch 4 Batch 2050 Loss 0.7764 Accuracy 0.8037\n",
            "Epoch 4 Batch 2100 Loss 0.7749 Accuracy 0.8040\n",
            "Epoch 4 Batch 2150 Loss 0.7740 Accuracy 0.8041\n",
            "Epoch 4 Batch 2200 Loss 0.7725 Accuracy 0.8044\n",
            "Epoch 4 Loss 0.7725 Accuracy 0.8044\n",
            "Time taken for 1 epoch: 420.78 secs\n",
            "\n",
            "Epoch 5 Batch 0 Loss 0.7807 Accuracy 0.7961\n",
            "Epoch 5 Batch 50 Loss 0.7053 Accuracy 0.8149\n",
            "Epoch 5 Batch 100 Loss 0.6969 Accuracy 0.8162\n",
            "Epoch 5 Batch 150 Loss 0.7009 Accuracy 0.8162\n",
            "Epoch 5 Batch 200 Loss 0.7050 Accuracy 0.8156\n",
            "Epoch 5 Batch 250 Loss 0.7041 Accuracy 0.8159\n",
            "Epoch 5 Batch 300 Loss 0.7015 Accuracy 0.8160\n",
            "Epoch 5 Batch 350 Loss 0.7008 Accuracy 0.8161\n",
            "Epoch 5 Batch 400 Loss 0.7023 Accuracy 0.8158\n",
            "Epoch 5 Batch 450 Loss 0.7007 Accuracy 0.8161\n",
            "Epoch 5 Batch 500 Loss 0.6983 Accuracy 0.8167\n",
            "Epoch 5 Batch 550 Loss 0.6978 Accuracy 0.8166\n",
            "Epoch 5 Batch 600 Loss 0.6976 Accuracy 0.8167\n",
            "Epoch 5 Batch 650 Loss 0.6964 Accuracy 0.8169\n",
            "Epoch 5 Batch 700 Loss 0.6940 Accuracy 0.8171\n",
            "Epoch 5 Batch 750 Loss 0.6922 Accuracy 0.8175\n",
            "Epoch 5 Batch 800 Loss 0.6919 Accuracy 0.8175\n",
            "Epoch 5 Batch 850 Loss 0.6918 Accuracy 0.8175\n",
            "Epoch 5 Batch 900 Loss 0.6908 Accuracy 0.8177\n",
            "Epoch 5 Batch 950 Loss 0.6904 Accuracy 0.8178\n",
            "Epoch 5 Batch 1000 Loss 0.6900 Accuracy 0.8179\n",
            "Epoch 5 Batch 1050 Loss 0.6891 Accuracy 0.8181\n",
            "Epoch 5 Batch 1100 Loss 0.6884 Accuracy 0.8182\n",
            "Epoch 5 Batch 1150 Loss 0.6886 Accuracy 0.8182\n",
            "Epoch 5 Batch 1200 Loss 0.6880 Accuracy 0.8183\n",
            "Epoch 5 Batch 1250 Loss 0.6874 Accuracy 0.8186\n",
            "Epoch 5 Batch 1300 Loss 0.6861 Accuracy 0.8188\n",
            "Epoch 5 Batch 1350 Loss 0.6851 Accuracy 0.8190\n",
            "Epoch 5 Batch 1400 Loss 0.6849 Accuracy 0.8190\n",
            "Epoch 5 Batch 1450 Loss 0.6838 Accuracy 0.8192\n",
            "Epoch 5 Batch 1500 Loss 0.6822 Accuracy 0.8195\n",
            "Epoch 5 Batch 1550 Loss 0.6812 Accuracy 0.8197\n",
            "Epoch 5 Batch 1600 Loss 0.6806 Accuracy 0.8198\n",
            "Epoch 5 Batch 1650 Loss 0.6799 Accuracy 0.8199\n",
            "Epoch 5 Batch 1700 Loss 0.6797 Accuracy 0.8199\n",
            "Epoch 5 Batch 1750 Loss 0.6786 Accuracy 0.8202\n",
            "Epoch 5 Batch 1800 Loss 0.6778 Accuracy 0.8203\n",
            "Epoch 5 Batch 1850 Loss 0.6768 Accuracy 0.8205\n",
            "Epoch 5 Batch 1900 Loss 0.6759 Accuracy 0.8206\n",
            "Epoch 5 Batch 1950 Loss 0.6753 Accuracy 0.8207\n",
            "Epoch 5 Batch 2000 Loss 0.6745 Accuracy 0.8209\n",
            "Epoch 5 Batch 2050 Loss 0.6733 Accuracy 0.8211\n",
            "Epoch 5 Batch 2100 Loss 0.6723 Accuracy 0.8213\n",
            "Epoch 5 Batch 2150 Loss 0.6717 Accuracy 0.8214\n",
            "Epoch 5 Batch 2200 Loss 0.6706 Accuracy 0.8216\n",
            "save\n",
            "Epoch 5 Loss 0.6706 Accuracy 0.8216\n",
            "Time taken for 1 epoch: 417.93 secs\n",
            "\n"
          ]
        }
      ]
    },
    {
      "cell_type": "code",
      "metadata": {
        "colab": {
          "base_uri": "https://localhost:8080/"
        },
        "id": "cjIo3f2ubjFd",
        "outputId": "895bdadf-eafe-4a43-dff9-f3eda997c6c1"
      },
      "source": [
        "model.save_weights(\"nmt_transformer_transformer.h5\")\n",
        "\n",
        "transformer_model = TransformerNMT(encoder, decoder, v_size_it)\n",
        "\n",
        "temp_input = tf.random.uniform((64, 38), dtype=tf.int64, minval=0, maxval=200)\n",
        "temp_target = tf.random.uniform((64, 36), dtype=tf.int64, minval=0, maxval=200)\n",
        "\n",
        "fn_out, _ = transformer_model([temp_input, temp_target], training=False)\n",
        "\n",
        "transformer_model.load_weights(\"nmt_transfomer_transformer.h5\")"
      ],
      "execution_count": 100,
      "outputs": [
        {
          "output_type": "stream",
          "name": "stdout",
          "text": [
            "Load weights\n"
          ]
        }
      ]
    },
    {
      "cell_type": "markdown",
      "metadata": {
        "id": "sJ52WxcYf75B"
      },
      "source": [
        "##Translator"
      ]
    },
    {
      "cell_type": "code",
      "metadata": {
        "id": "miFhmV9Kf9oV"
      },
      "source": [
        "class Translator(tf.Module):\n",
        "    def __init__(self, src_tokenizer: BertTokenizer, targ_tokenizer: BertTokenizer, transformer: TransformerNMT) -> None:\n",
        "        super(Translator, self).__init__()\n",
        "        self.src_tokenizer = src_tokenizer\n",
        "        self.targ_tokenizer = targ_tokenizer\n",
        "        self.transformer = transformer\n",
        "\n",
        "    def __call__(self, sentence, max_length=30) -> str:\n",
        "        sentence_tok = self.src_tokenizer(sentence, padding='max_length', return_tensors='tf', max_length=max_length,\n",
        "                                          add_special_tokens=True).data['input_ids']\n",
        "\n",
        "        encoder_input = tf.reshape(sentence_tok, [1, max_length])\n",
        "\n",
        "        start_end = self.targ_tokenizer(\"\", padding='max_length', return_tensors='np',\n",
        "                                        max_length=3, add_special_tokens=True).data['input_ids']\n",
        "\n",
        "        start = tf.convert_to_tensor([start_end[0, 0]], dtype=tf.int32)\n",
        "        end = tf.convert_to_tensor([start_end[0, 1]], dtype=tf.int32)\n",
        "\n",
        "        # `tf.TensorArray` is required here (instead of a python list) so that the\n",
        "        # dynamic-loop can be traced by `tf.function`.\n",
        "        output_array = tf.TensorArray(dtype=tf.int32, size=0, dynamic_size=True)\n",
        "        output_array = output_array.write(0, start)\n",
        "\n",
        "        for i in tf.range(max_length):\n",
        "            output = tf.transpose(output_array.stack())\n",
        "            predictions, _ = self.transformer([encoder_input, output], training=False)\n",
        "\n",
        "            # select the last token from the seq_len dimension\n",
        "            predictions = predictions[:, -1:, :]  # (batch_size, 1, vocab_size)\n",
        "\n",
        "            predicted_id = tf.argmax(predictions, axis=-1, output_type=tf.int32)\n",
        "\n",
        "            # concatentate the predicted_id to the output which is given to the decoder\n",
        "            # as its input.\n",
        "            output_array = output_array.write(i + 1, predicted_id[0])\n",
        "\n",
        "            if predicted_id == end:\n",
        "                break\n",
        "\n",
        "        output = tf.transpose(output_array.stack())\n",
        "        output = output.numpy().tolist()[0]\n",
        "        # out = list()\n",
        "        # for r in output:\n",
        "        #    for e in r:\n",
        "        #        out.append(e)\n",
        "        \n",
        "        # text = self.targ_tokenizer.convert_ids_to_tokens(out)\n",
        "        text = self.targ_tokenizer.convert_ids_to_tokens(output)\n",
        "\n",
        "        return self.targ_tokenizer.convert_tokens_to_string(text)"
      ],
      "execution_count": null,
      "outputs": []
    },
    {
      "cell_type": "markdown",
      "metadata": {
        "id": "NMNTo2qZg-he"
      },
      "source": [
        "Let's try the translator."
      ]
    },
    {
      "cell_type": "code",
      "metadata": {
        "colab": {
          "base_uri": "https://localhost:8080/"
        },
        "id": "s5QA2oyohAeM",
        "outputId": "a55ef706-d04c-4a9b-c0c3-f220bab9994c"
      },
      "source": [
        "# Build the translator\n",
        "translator = Translator(tokenizer_en, tokenizer_it, model)\n",
        "\n",
        "# Translate some examples\n",
        "out = translator(\"I want to beat you hard.\")\n",
        "print(out)"
      ],
      "execution_count": 101,
      "outputs": [
        {
          "output_type": "stream",
          "name": "stdout",
          "text": [
            "[CLS] voglio battervi duramente . [SEP]\n"
          ]
        }
      ]
    },
    {
      "cell_type": "markdown",
      "metadata": {
        "id": "B1eBFn5nksru"
      },
      "source": [
        "Da qui in poi va messo BERT."
      ]
    }
  ]
}